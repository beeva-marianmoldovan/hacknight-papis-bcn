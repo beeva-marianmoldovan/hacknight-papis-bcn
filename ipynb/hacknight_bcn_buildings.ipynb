{
 "metadata": {
  "name": ""
 },
 "nbformat": 3,
 "nbformat_minor": 0,
 "worksheets": [
  {
   "cells": [
    {
     "cell_type": "markdown",
     "metadata": {},
     "source": [
      "## Get Image dataset\n",
      "Using Google images query"
     ]
    },
    {
     "cell_type": "code",
     "collapsed": false,
     "input": [
      "import json\n",
      "import os\n",
      "import time\n",
      "import requests\n",
      "from PIL import Image\n",
      "from StringIO import StringIO\n",
      "from requests.exceptions import ConnectionError\n",
      " \n",
      "size = 256,256\n",
      "\n",
      "def go(query, path):\n",
      "  BASE_URL = 'https://ajax.googleapis.com/ajax/services/search/images?'\\\n",
      "             'v=1.0&q=' + query + '&start=%d'\n",
      "  \n",
      "  if not os.path.exists(path):\n",
      "    os.makedirs(path)\n",
      " \n",
      "  start = 0\n",
      "  while start < 60:\n",
      "    r = requests.get(BASE_URL % start)\n",
      "    if json.loads(r.text)['responseData']['results'] is not None:\n",
      "      for image_info in json.loads(r.text)['responseData']['results']:\n",
      "        url = image_info['unescapedUrl']\n",
      "        try:\n",
      "          image_r = requests.get(url)\n",
      "        except ConnectionError, e:\n",
      "          print 'could not download %s' % url\n",
      "          continue\n",
      "        title = image_info['titleNoFormatting'].replace('/', '').replace('\\\\', '')\n",
      "        file = open(os.path.join(path, '%s.jpg') % title, 'w')\n",
      "        try:\n",
      "          img = Image.open(StringIO(image_r.content))\n",
      "          img.thumbnail(size, Image.ANTIALIAS)\n",
      "          img.save(file, 'JPEG')\n",
      "        except IOError, e:\n",
      "          print 'could not save %s' % url\n",
      "          continue\n",
      "        finally:\n",
      "          file.close()\n",
      "      start += 4\n",
      "\n",
      "def clean(path):\n",
      "  i = 0\n",
      "  for f in os.listdir(path):\n",
      "    os.rename(path + '/' + f, path + '/' + str(i) + '.jpg')\n",
      "    i += 1\n",
      "\n",
      " \n",
      "go('barcelona building', 'images')\n",
      "go('barcelona buildings', 'images')\n",
      "clean('images')"
     ],
     "language": "python",
     "metadata": {},
     "outputs": [
      {
       "output_type": "stream",
       "stream": "stdout",
       "text": [
        "could not download http://www.e-architect.co.uk/images/jpgs/barcelona/barcelona_cathedral_4.jpg\n",
        "could not save http://www.hikenow.net/images/Barcelona/img/Barcelona-Buildings.JPG"
       ]
      },
      {
       "output_type": "stream",
       "stream": "stdout",
       "text": [
        "\n",
        "could not save http://hdscreen.me/walls/art-design/barcelona-buildings-cities-2759043-900x675.jpg"
       ]
      },
      {
       "output_type": "stream",
       "stream": "stdout",
       "text": [
        "\n"
       ]
      }
     ],
     "prompt_number": 17
    },
    {
     "cell_type": "code",
     "collapsed": false,
     "input": [
      "import sys\n",
      "sys.path.append(\"/usr/local/lib/python2.7/dist-packages/\")"
     ],
     "language": "python",
     "metadata": {},
     "outputs": [],
     "prompt_number": 1
    },
    {
     "cell_type": "code",
     "collapsed": false,
     "input": [
      "import graphlab as gl\n"
     ],
     "language": "python",
     "metadata": {},
     "outputs": [],
     "prompt_number": 2
    },
    {
     "cell_type": "markdown",
     "metadata": {},
     "source": [
      "## Load the images into an SFrame"
     ]
    },
    {
     "cell_type": "code",
     "collapsed": false,
     "input": [
      "images = gl.image_analysis.load_images('images', random_order=False, with_path=True)"
     ],
     "language": "python",
     "metadata": {},
     "outputs": [
      {
       "html": [
        "<pre>PROGRESS: Unexpected JPEG decode failure\t file: /home/enrique/proyectos/papis/hacknight-papis-bcn/ipynb/images/57.jpg</pre>"
       ],
       "metadata": {},
       "output_type": "display_data",
       "text": [
        "PROGRESS: Unexpected JPEG decode failure\t file: /home/enrique/proyectos/papis/hacknight-papis-bcn/ipynb/images/57.jpg"
       ]
      },
      {
       "html": [
        "<pre>PROGRESS: Unexpected JPEG decode failure\t file: /home/enrique/proyectos/papis/hacknight-papis-bcn/ipynb/images/75.jpg</pre>"
       ],
       "metadata": {},
       "output_type": "display_data",
       "text": [
        "PROGRESS: Unexpected JPEG decode failure\t file: /home/enrique/proyectos/papis/hacknight-papis-bcn/ipynb/images/75.jpg"
       ]
      }
     ],
     "prompt_number": 47
    },
    {
     "cell_type": "code",
     "collapsed": false,
     "input": [
      "images_resized = gl.SFrame()\n",
      "images_resized['image'] = gl.image_analysis.resize(images['image'], 256, 256, 3)\n",
      "images_resized = images_resized.add_row_number()"
     ],
     "language": "python",
     "metadata": {},
     "outputs": [],
     "prompt_number": 48
    },
    {
     "cell_type": "markdown",
     "metadata": {},
     "source": [
      "## Extract image features with deeplearning"
     ]
    },
    {
     "cell_type": "code",
     "collapsed": false,
     "input": [
      "pretrained_model = gl.load_model('http://s3.amazonaws.com/GraphLab-Datasets/deeplearning/imagenet_model_iter45')"
     ],
     "language": "python",
     "metadata": {},
     "outputs": [],
     "prompt_number": 22
    },
    {
     "cell_type": "code",
     "collapsed": false,
     "input": [
      "images_resized['extracted_features'] = pretrained_model.extract_features(images_resized)"
     ],
     "language": "python",
     "metadata": {},
     "outputs": [],
     "prompt_number": 49
    },
    {
     "cell_type": "code",
     "collapsed": false,
     "input": [
      "from IPython.display import display\n",
      "from IPython.display import Image\n",
      "def url_image(i):\n",
      "    return \"http://raw.githubusercontent.com/beeva-marianmoldovan/hacknight-papis-bcn/master/bcn-images-right/\"+ str(x+1) + \".jpg\"\n",
      "def show_image(i):\n",
      "    imgurl = url_image(i)\n",
      "    img = Image(url=imgurl, width=100, height=100)\n",
      "    display(img)"
     ],
     "language": "python",
     "metadata": {},
     "outputs": [],
     "prompt_number": 93
    },
    {
     "cell_type": "code",
     "collapsed": false,
     "input": [
      "images_resized['path'] = images['path']\n",
      "def show_graphlab_image(i):\n",
      "    img = Image(filename=images_resized['path'][i], width=100, height=100)\n",
      "    display(img)\n",
      "images_resized\n",
      "images_resized.show()"
     ],
     "language": "python",
     "metadata": {},
     "outputs": [],
     "prompt_number": 94
    },
    {
     "cell_type": "code",
     "collapsed": false,
     "input": [
      "show_graphlab_image(1)"
     ],
     "language": "python",
     "metadata": {},
     "outputs": [
      {
       "jpeg": "[encoded data removed]",
       "metadata": {
        "jpeg": {
         "height": 100,
         "width": 100
        }
       },
       "output_type": "display_data",
       "text": [
        "<IPython.core.display.Image at 0x7ff870f7fad0>"
       ]
      }
     ],
     "prompt_number": 95
    },
    {
     "cell_type": "code",
     "collapsed": false,
     "input": [
      "sf2 = images_resized['extracted_features']\n",
      "len(sf2)"
     ],
     "language": "python",
     "metadata": {},
     "outputs": [
      {
       "metadata": {},
       "output_type": "pyout",
       "prompt_number": 96,
       "text": [
        "85"
       ]
      }
     ],
     "prompt_number": 96
    },
    {
     "cell_type": "code",
     "collapsed": false,
     "input": [
      "model = gl.nearest_neighbors.create(images_resized, features='extracted_features', label = 'id', distance='euclidean')"
     ],
     "language": "python",
     "metadata": {},
     "outputs": [
      {
       "ename": "TypeError",
       "evalue": "not enough arguments for format string",
       "output_type": "pyerr",
       "traceback": [
        "\u001b[1;31m---------------------------------------------------------------------------\u001b[0m\n\u001b[1;31mTypeError\u001b[0m                                 Traceback (most recent call last)",
        "\u001b[1;32m<ipython-input-87-102259a4f6bf>\u001b[0m in \u001b[0;36m<module>\u001b[1;34m()\u001b[0m\n\u001b[1;32m----> 1\u001b[1;33m \u001b[0mmodel\u001b[0m \u001b[1;33m=\u001b[0m \u001b[0mgl\u001b[0m\u001b[1;33m.\u001b[0m\u001b[0mnearest_neighbors\u001b[0m\u001b[1;33m.\u001b[0m\u001b[0mcreate\u001b[0m\u001b[1;33m(\u001b[0m\u001b[0mimages_resized\u001b[0m\u001b[1;33m,\u001b[0m \u001b[0mfeatures\u001b[0m\u001b[1;33m=\u001b[0m\u001b[1;34m'extracted_features'\u001b[0m\u001b[1;33m,\u001b[0m \u001b[0mlabel\u001b[0m \u001b[1;33m=\u001b[0m \u001b[1;34m'id'\u001b[0m\u001b[1;33m,\u001b[0m \u001b[0mdistance\u001b[0m\u001b[1;33m=\u001b[0m\u001b[1;34m'euclidean'\u001b[0m\u001b[1;33m)\u001b[0m\u001b[1;33m\u001b[0m\u001b[0m\n\u001b[0m",
        "\u001b[1;32m/usr/local/lib/python2.7/dist-packages/graphlab/toolkits/nearest_neighbors/_nearest_neighbors.pyc\u001b[0m in \u001b[0;36mcreate\u001b[1;34m(dataset, label, features, distance, method, composite_params, verbose, **kwargs)\u001b[0m\n\u001b[0;32m    436\u001b[0m \u001b[1;33m\u001b[0m\u001b[0m\n\u001b[0;32m    437\u001b[0m         \u001b[1;31m# set of features must be iterable\u001b[0m\u001b[1;33m\u001b[0m\u001b[1;33m\u001b[0m\u001b[0m\n\u001b[1;32m--> 438\u001b[1;33m         \u001b[0m_tkutl\u001b[0m\u001b[1;33m.\u001b[0m\u001b[0m_raise_error_if_not_iterable\u001b[0m\u001b[1;33m(\u001b[0m\u001b[0mfeature_names\u001b[0m\u001b[1;33m,\u001b[0m \u001b[1;34m\"features\"\u001b[0m\u001b[1;33m)\u001b[0m\u001b[1;33m\u001b[0m\u001b[0m\n\u001b[0m\u001b[0;32m    439\u001b[0m \u001b[1;33m\u001b[0m\u001b[0m\n\u001b[0;32m    440\u001b[0m         \u001b[1;31m# feature names must be strings\u001b[0m\u001b[1;33m\u001b[0m\u001b[1;33m\u001b[0m\u001b[0m\n",
        "\u001b[1;32m/usr/local/lib/python2.7/dist-packages/graphlab/toolkits/_internal_utils.pyc\u001b[0m in \u001b[0;36m_raise_error_if_not_iterable\u001b[1;34m(dataset, variable_name)\u001b[0m\n\u001b[0;32m    186\u001b[0m \u001b[1;33m\u001b[0m\u001b[0m\n\u001b[0;32m    187\u001b[0m     \u001b[1;32mif\u001b[0m \u001b[1;32mnot\u001b[0m \u001b[0mhasattr\u001b[0m\u001b[1;33m(\u001b[0m\u001b[0mdataset\u001b[0m\u001b[1;33m,\u001b[0m \u001b[1;34m'__iter__'\u001b[0m\u001b[1;33m)\u001b[0m\u001b[1;33m:\u001b[0m\u001b[1;33m\u001b[0m\u001b[0m\n\u001b[1;32m--> 188\u001b[1;33m         \u001b[1;32mraise\u001b[0m \u001b[0mToolkitError\u001b[0m\u001b[1;33m,\u001b[0m \u001b[0merr_msg\u001b[0m \u001b[1;33m%\u001b[0m \u001b[0mvariable_name\u001b[0m\u001b[1;33m\u001b[0m\u001b[0m\n\u001b[0m\u001b[0;32m    189\u001b[0m \u001b[1;33m\u001b[0m\u001b[0m\n\u001b[0;32m    190\u001b[0m \u001b[1;33m\u001b[0m\u001b[0m\n",
        "\u001b[1;31mTypeError\u001b[0m: not enough arguments for format string"
       ]
      }
     ],
     "prompt_number": 87
    },
    {
     "cell_type": "markdown",
     "metadata": {},
     "source": [
      "## Get image features\n",
      "\n",
      "1. Google Images \"Barcelona buildings\" ~ 100 images\n",
      "2. Features extracted with http://indico.io API\n",
      "3. Code and resources pushed to [github](https://github.com/beeva-marianmoldovan/hacknight-papis-bcn) "
     ]
    },
    {
     "cell_type": "code",
     "collapsed": false,
     "input": [
      "sf = gl.SFrame.read_csv('https://raw.githubusercontent.com/beeva-marianmoldovan/hacknight-papis-bcn/master/features_sorted_f.csv', header=False, column_type_hints=float) "
     ],
     "language": "python",
     "metadata": {},
     "outputs": [
      {
       "output_type": "stream",
       "stream": "stderr",
       "text": [
        "[INFO] Start server at: ipc:///tmp/graphlab_server-5776 - Server binary: /usr/local/lib/python2.7/dist-packages/graphlab/unity_server - Server log: /tmp/graphlab_server_1417783861.log\n"
       ]
      },
      {
       "output_type": "stream",
       "stream": "stderr",
       "text": [
        "[INFO] GraphLab Server Version: 1.1\n"
       ]
      },
      {
       "html": [
        "<pre>PROGRESS: Finished parsing file https://raw.githubusercontent.com/beeva-marianmoldovan/hacknight-papis-bcn/master/features_sorted_f.csv</pre>"
       ],
       "metadata": {},
       "output_type": "display_data",
       "text": [
        "PROGRESS: Finished parsing file https://raw.githubusercontent.com/beeva-marianmoldovan/hacknight-papis-bcn/master/features_sorted_f.csv"
       ]
      },
      {
       "html": [
        "<pre>PROGRESS: Parsing completed. Parsed 96 lines in 0.058851 secs.</pre>"
       ],
       "metadata": {},
       "output_type": "display_data",
       "text": [
        "PROGRESS: Parsing completed. Parsed 96 lines in 0.058851 secs."
       ]
      }
     ],
     "prompt_number": 3
    },
    {
     "cell_type": "markdown",
     "metadata": {},
     "source": [
      "___\n",
      "# Example 0\n",
      "\n",
      "1. Project into 4D with an R implementation of [t-SNE over OpenGL](https://github.com/beeva-marianmoldovan/hacknight-papis-bcn/blob/master/R/tsne_bcn.R)\n",
      "\n",
      "2. [Visualize demo](https://github.com/beeva-marianmoldovan/hacknight-papis-bcn/blob/master/R%20representation.gif)"
     ]
    },
    {
     "cell_type": "markdown",
     "metadata": {},
     "source": [
      "___\n",
      "# Example 1\n",
      "1. Get k= 2 nearest neighbors\n",
      "2. Get similarity graph\n",
      "3. Create shortest path tree from node [81](http://github.com/beeva-marianmoldovan/hacknight-papis-bcn/blob/master/bcn-images-right/82.jpg) ([Torre Agbar](http://en.wikipedia.org/wiki/Torre_Agbar) at night)\n",
      "4. Plot\n",
      "\n",
      "*Note: Image ids start with 1. Graphlab ids start with 0. Thus node 81 relates to image http://raw.githubusercontent.com/beeva-marianmoldovan/hacknight-papis-bcn/master/bcn-images-right/82.jpg *\n",
      "\n",
      "<a href=\"http://raw.githubusercontent.com/beeva-marianmoldovan/hacknight-papis-bcn/master/bcn-images-right/82.jpg\"> <img src=\"http://raw.githubusercontent.com/beeva-marianmoldovan/hacknight-papis-bcn/master/bcn-images-right/82.jpg\" title=\"Node 81: Torre Agbar\" width=\"100\" height=\"100\"> </a>"
     ]
    },
    {
     "cell_type": "code",
     "collapsed": false,
     "input": [
      "#model = gl.nearest_neighbors.create(sf, distance='euclidean')\n",
      "model = gl.nearest_neighbors.create(images_resized, features='extracted_features', label = 'id', distance='euclidean')\n",
      "sf_nn = model.query(sf, k=2)\n",
      "sf_nn = sf_nn[sf_nn['distance'] > 0]\n",
      "sg_similarities = gl.SGraph().add_edges(sf_nn, src_field='query_label', dst_field='reference_label')"
     ],
     "language": "python",
     "metadata": {},
     "outputs": [
      {
       "ename": "TypeError",
       "evalue": "not enough arguments for format string",
       "output_type": "pyerr",
       "traceback": [
        "\u001b[1;31m---------------------------------------------------------------------------\u001b[0m\n\u001b[1;31mTypeError\u001b[0m                                 Traceback (most recent call last)",
        "\u001b[1;32m<ipython-input-86-64475ef7090b>\u001b[0m in \u001b[0;36m<module>\u001b[1;34m()\u001b[0m\n\u001b[0;32m      1\u001b[0m \u001b[1;31m#model = gl.nearest_neighbors.create(sf, distance='euclidean')\u001b[0m\u001b[1;33m\u001b[0m\u001b[1;33m\u001b[0m\u001b[0m\n\u001b[1;32m----> 2\u001b[1;33m \u001b[0mmodel\u001b[0m \u001b[1;33m=\u001b[0m \u001b[0mgl\u001b[0m\u001b[1;33m.\u001b[0m\u001b[0mnearest_neighbors\u001b[0m\u001b[1;33m.\u001b[0m\u001b[0mcreate\u001b[0m\u001b[1;33m(\u001b[0m\u001b[0mimages_resized\u001b[0m\u001b[1;33m,\u001b[0m \u001b[0mfeatures\u001b[0m\u001b[1;33m=\u001b[0m\u001b[1;34m'extracted_features'\u001b[0m\u001b[1;33m,\u001b[0m \u001b[0mlabel\u001b[0m \u001b[1;33m=\u001b[0m \u001b[1;34m'id'\u001b[0m\u001b[1;33m,\u001b[0m \u001b[0mdistance\u001b[0m\u001b[1;33m=\u001b[0m\u001b[1;34m'euclidean'\u001b[0m\u001b[1;33m)\u001b[0m\u001b[1;33m\u001b[0m\u001b[0m\n\u001b[0m\u001b[0;32m      3\u001b[0m \u001b[0msf_nn\u001b[0m \u001b[1;33m=\u001b[0m \u001b[0mmodel\u001b[0m\u001b[1;33m.\u001b[0m\u001b[0mquery\u001b[0m\u001b[1;33m(\u001b[0m\u001b[0msf\u001b[0m\u001b[1;33m,\u001b[0m \u001b[0mk\u001b[0m\u001b[1;33m=\u001b[0m\u001b[1;36m2\u001b[0m\u001b[1;33m)\u001b[0m\u001b[1;33m\u001b[0m\u001b[0m\n\u001b[0;32m      4\u001b[0m \u001b[0msf_nn\u001b[0m \u001b[1;33m=\u001b[0m \u001b[0msf_nn\u001b[0m\u001b[1;33m[\u001b[0m\u001b[0msf_nn\u001b[0m\u001b[1;33m[\u001b[0m\u001b[1;34m'distance'\u001b[0m\u001b[1;33m]\u001b[0m \u001b[1;33m>\u001b[0m \u001b[1;36m0\u001b[0m\u001b[1;33m]\u001b[0m\u001b[1;33m\u001b[0m\u001b[0m\n\u001b[0;32m      5\u001b[0m \u001b[0msg_similarities\u001b[0m \u001b[1;33m=\u001b[0m \u001b[0mgl\u001b[0m\u001b[1;33m.\u001b[0m\u001b[0mSGraph\u001b[0m\u001b[1;33m(\u001b[0m\u001b[1;33m)\u001b[0m\u001b[1;33m.\u001b[0m\u001b[0madd_edges\u001b[0m\u001b[1;33m(\u001b[0m\u001b[0msf_nn\u001b[0m\u001b[1;33m,\u001b[0m \u001b[0msrc_field\u001b[0m\u001b[1;33m=\u001b[0m\u001b[1;34m'query_label'\u001b[0m\u001b[1;33m,\u001b[0m \u001b[0mdst_field\u001b[0m\u001b[1;33m=\u001b[0m\u001b[1;34m'reference_label'\u001b[0m\u001b[1;33m)\u001b[0m\u001b[1;33m\u001b[0m\u001b[0m\n",
        "\u001b[1;32m/usr/local/lib/python2.7/dist-packages/graphlab/toolkits/nearest_neighbors/_nearest_neighbors.pyc\u001b[0m in \u001b[0;36mcreate\u001b[1;34m(dataset, label, features, distance, method, composite_params, verbose, **kwargs)\u001b[0m\n\u001b[0;32m    436\u001b[0m \u001b[1;33m\u001b[0m\u001b[0m\n\u001b[0;32m    437\u001b[0m         \u001b[1;31m# set of features must be iterable\u001b[0m\u001b[1;33m\u001b[0m\u001b[1;33m\u001b[0m\u001b[0m\n\u001b[1;32m--> 438\u001b[1;33m         \u001b[0m_tkutl\u001b[0m\u001b[1;33m.\u001b[0m\u001b[0m_raise_error_if_not_iterable\u001b[0m\u001b[1;33m(\u001b[0m\u001b[0mfeature_names\u001b[0m\u001b[1;33m,\u001b[0m \u001b[1;34m\"features\"\u001b[0m\u001b[1;33m)\u001b[0m\u001b[1;33m\u001b[0m\u001b[0m\n\u001b[0m\u001b[0;32m    439\u001b[0m \u001b[1;33m\u001b[0m\u001b[0m\n\u001b[0;32m    440\u001b[0m         \u001b[1;31m# feature names must be strings\u001b[0m\u001b[1;33m\u001b[0m\u001b[1;33m\u001b[0m\u001b[0m\n",
        "\u001b[1;32m/usr/local/lib/python2.7/dist-packages/graphlab/toolkits/_internal_utils.pyc\u001b[0m in \u001b[0;36m_raise_error_if_not_iterable\u001b[1;34m(dataset, variable_name)\u001b[0m\n\u001b[0;32m    186\u001b[0m \u001b[1;33m\u001b[0m\u001b[0m\n\u001b[0;32m    187\u001b[0m     \u001b[1;32mif\u001b[0m \u001b[1;32mnot\u001b[0m \u001b[0mhasattr\u001b[0m\u001b[1;33m(\u001b[0m\u001b[0mdataset\u001b[0m\u001b[1;33m,\u001b[0m \u001b[1;34m'__iter__'\u001b[0m\u001b[1;33m)\u001b[0m\u001b[1;33m:\u001b[0m\u001b[1;33m\u001b[0m\u001b[0m\n\u001b[1;32m--> 188\u001b[1;33m         \u001b[1;32mraise\u001b[0m \u001b[0mToolkitError\u001b[0m\u001b[1;33m,\u001b[0m \u001b[0merr_msg\u001b[0m \u001b[1;33m%\u001b[0m \u001b[0mvariable_name\u001b[0m\u001b[1;33m\u001b[0m\u001b[0m\n\u001b[0m\u001b[0;32m    189\u001b[0m \u001b[1;33m\u001b[0m\u001b[0m\n\u001b[0;32m    190\u001b[0m \u001b[1;33m\u001b[0m\u001b[0m\n",
        "\u001b[1;31mTypeError\u001b[0m: not enough arguments for format string"
       ]
      }
     ],
     "prompt_number": 86
    },
    {
     "cell_type": "code",
     "collapsed": false,
     "input": [
      "sp = gl.shortest_path.create(sg_similarities, weight_field='distance', source_vid=81)\n",
      "sp_graph = sp['graph']\n",
      "sp_graph.show(vlabel='id', highlight=[81,37])"
     ],
     "language": "python",
     "metadata": {},
     "outputs": [
      {
       "html": [
        "<pre>PROGRESS: +----------------------------+</pre>"
       ],
       "metadata": {},
       "output_type": "display_data",
       "text": [
        "PROGRESS: +----------------------------+"
       ]
      },
      {
       "html": [
        "<pre>PROGRESS: | Number of vertices updated |</pre>"
       ],
       "metadata": {},
       "output_type": "display_data",
       "text": [
        "PROGRESS: | Number of vertices updated |"
       ]
      },
      {
       "html": [
        "<pre>PROGRESS: +----------------------------+</pre>"
       ],
       "metadata": {},
       "output_type": "display_data",
       "text": [
        "PROGRESS: +----------------------------+"
       ]
      },
      {
       "html": [
        "<pre>PROGRESS: | 1                          |</pre>"
       ],
       "metadata": {},
       "output_type": "display_data",
       "text": [
        "PROGRESS: | 1                          |"
       ]
      },
      {
       "html": [
        "<pre>PROGRESS: | 0                          |</pre>"
       ],
       "metadata": {},
       "output_type": "display_data",
       "text": [
        "PROGRESS: | 0                          |"
       ]
      },
      {
       "html": [
        "<pre>PROGRESS: +----------------------------+</pre>"
       ],
       "metadata": {},
       "output_type": "display_data",
       "text": [
        "PROGRESS: +----------------------------+"
       ]
      }
     ],
     "prompt_number": 6
    },
    {
     "cell_type": "markdown",
     "metadata": {},
     "source": [
      "## Results\n",
      "With k=2 neighbors we get unconnected clusters\n",
      "\n",
      "We identify visually clusters centered on [25](http://github.com/beeva-marianmoldovan/hacknight-papis-bcn/blob/master/bcn-images-right/26.jpg) ([Torre Agbar](http://en.wikipedia.org/wiki/Torre_Agbar)), [13](http://github.com/beeva-marianmoldovan/hacknight-papis-bcn/blob/master/bcn-images-right/14.jpg) ([Casa Mil\u00e0](http://en.wikipedia.org/wiki/Casa_Mil%C3%A0)) or [34](http://github.com/beeva-marianmoldovan/hacknight-papis-bcn/blob/master/bcn-images-right/35.jpg) ([Sagrada Familia](http://en.wikipedia.org/wiki/Sagrada_Fam%C3%ADlia)) for instance.\n",
      "\n",
      "<a href=\"http://raw.githubusercontent.com/beeva-marianmoldovan/hacknight-papis-bcn/master/bcn-images-right/26.jpg\"> <img src=\"http://raw.githubusercontent.com/beeva-marianmoldovan/hacknight-papis-bcn/master/bcn-images-right/26.jpg\" title=\"Node 25: Torre Agbar\" width=\"100\" height=\"100\"> </a>\n",
      "\n",
      "<a href=\"http://raw.githubusercontent.com/beeva-marianmoldovan/hacknight-papis-bcn/master/bcn-images-right/14.jpg\"> <img src=\"http://raw.githubusercontent.com/beeva-marianmoldovan/hacknight-papis-bcn/master/bcn-images-right/14.jpg\" title=\"Node 13: Casa Mil\u00e0\" width=\"100\" height=\"100\"> </a>\n",
      "\n",
      "<a href=\"http://raw.githubusercontent.com/beeva-marianmoldovan/hacknight-papis-bcn/master/bcn-images-right/35.jpg\"> <img src=\"http://raw.githubusercontent.com/beeva-marianmoldovan/hacknight-papis-bcn/master/bcn-images-right/35.jpg\" title=\"Node 34: Sagrada Familia\" width=\"100\" height=\"100\"> </a>"
     ]
    },
    {
     "cell_type": "markdown",
     "metadata": {},
     "source": [
      "___\n",
      "# Example 2\n",
      "1. Get k= 4 nearest neighbors\n",
      "2. Get similarity graph\n",
      "3. Create shortest path tree from node [81](http://github.com/beeva-marianmoldovan/hacknight-papis-bcn/blob/master/bcn-images-right/82.jpg) ([Torre Agbar](http://en.wikipedia.org/wiki/Torre_Agbar) at night)\n",
      "4. Plot\n",
      "\n",
      "\n"
     ]
    },
    {
     "cell_type": "code",
     "collapsed": false,
     "input": [
      "sf_nn = model.query(sf, k=4)\n",
      "sf_nn = sf_nn[sf_nn['distance'] > 0]\n",
      "sg_similarities = gl.SGraph().add_edges(sf_nn, src_field='query_label', dst_field='reference_label')"
     ],
     "language": "python",
     "metadata": {},
     "outputs": [
      {
       "html": [
        "<pre>PROGRESS: Starting to query</pre>"
       ],
       "metadata": {},
       "output_type": "display_data",
       "text": [
        "PROGRESS: Starting to query"
       ]
      },
      {
       "html": [
        "<pre>PROGRESS: +--------------+---------+-------------+--------------+</pre>"
       ],
       "metadata": {},
       "output_type": "display_data",
       "text": [
        "PROGRESS: +--------------+---------+-------------+--------------+"
       ]
      },
      {
       "html": [
        "<pre>PROGRESS: | Query points | # Pairs | % Complete. | Elapsed Time |</pre>"
       ],
       "metadata": {},
       "output_type": "display_data",
       "text": [
        "PROGRESS: | Query points | # Pairs | % Complete. | Elapsed Time |"
       ]
      },
      {
       "html": [
        "<pre>PROGRESS: +--------------+---------+-------------+--------------+</pre>"
       ],
       "metadata": {},
       "output_type": "display_data",
       "text": [
        "PROGRESS: +--------------+---------+-------------+--------------+"
       ]
      },
      {
       "html": [
        "<pre>PROGRESS: | 1            | 96      | 1           | 5.872ms      |</pre>"
       ],
       "metadata": {},
       "output_type": "display_data",
       "text": [
        "PROGRESS: | 1            | 96      | 1           | 5.872ms      |"
       ]
      },
      {
       "html": [
        "<pre>PROGRESS: | Done         |         | 100         | 18.027ms     |</pre>"
       ],
       "metadata": {},
       "output_type": "display_data",
       "text": [
        "PROGRESS: | Done         |         | 100         | 18.027ms     |"
       ]
      },
      {
       "html": [
        "<pre>PROGRESS: +--------------+---------+-------------+--------------+</pre>"
       ],
       "metadata": {},
       "output_type": "display_data",
       "text": [
        "PROGRESS: +--------------+---------+-------------+--------------+"
       ]
      },
      {
       "output_type": "stream",
       "stream": "stdout",
       "text": [
        "Starting model querying...\n"
       ]
      }
     ],
     "prompt_number": 7
    },
    {
     "cell_type": "code",
     "collapsed": false,
     "input": [
      "sp = gl.shortest_path.create(sg_similarities, source_vid=81)\n",
      "sp_graph = sp['graph']\n",
      "sp_graph.show(vlabel='id', highlight=[81,37])"
     ],
     "language": "python",
     "metadata": {},
     "outputs": [
      {
       "html": [
        "<pre>PROGRESS: +----------------------------+</pre>"
       ],
       "metadata": {},
       "output_type": "display_data",
       "text": [
        "PROGRESS: +----------------------------+"
       ]
      },
      {
       "html": [
        "<pre>PROGRESS: | Number of vertices updated |</pre>"
       ],
       "metadata": {},
       "output_type": "display_data",
       "text": [
        "PROGRESS: | Number of vertices updated |"
       ]
      },
      {
       "html": [
        "<pre>PROGRESS: +----------------------------+</pre>"
       ],
       "metadata": {},
       "output_type": "display_data",
       "text": [
        "PROGRESS: +----------------------------+"
       ]
      },
      {
       "html": [
        "<pre>PROGRESS: | 4                          |</pre>"
       ],
       "metadata": {},
       "output_type": "display_data",
       "text": [
        "PROGRESS: | 4                          |"
       ]
      },
      {
       "html": [
        "<pre>PROGRESS: | 20                         |</pre>"
       ],
       "metadata": {},
       "output_type": "display_data",
       "text": [
        "PROGRESS: | 20                         |"
       ]
      },
      {
       "html": [
        "<pre>PROGRESS: | 22                         |</pre>"
       ],
       "metadata": {},
       "output_type": "display_data",
       "text": [
        "PROGRESS: | 22                         |"
       ]
      },
      {
       "html": [
        "<pre>PROGRESS: | 7                          |</pre>"
       ],
       "metadata": {},
       "output_type": "display_data",
       "text": [
        "PROGRESS: | 7                          |"
       ]
      },
      {
       "html": [
        "<pre>PROGRESS: | 1                          |</pre>"
       ],
       "metadata": {},
       "output_type": "display_data",
       "text": [
        "PROGRESS: | 1                          |"
       ]
      },
      {
       "html": [
        "<pre>PROGRESS: | 0                          |</pre>"
       ],
       "metadata": {},
       "output_type": "display_data",
       "text": [
        "PROGRESS: | 0                          |"
       ]
      },
      {
       "html": [
        "<pre>PROGRESS: +----------------------------+</pre>"
       ],
       "metadata": {},
       "output_type": "display_data",
       "text": [
        "PROGRESS: +----------------------------+"
       ]
      }
     ],
     "prompt_number": 8
    },
    {
     "cell_type": "markdown",
     "metadata": {},
     "source": [
      "## Results\n",
      "With k=4 neighbors we get a connected graph"
     ]
    },
    {
     "cell_type": "markdown",
     "metadata": {},
     "source": [
      "___\n",
      "# Example 3\n",
      "1. Try to automatically get the shortest path from 81 to 37\n",
      "With k=4"
     ]
    },
    {
     "cell_type": "code",
     "collapsed": false,
     "input": [
      "path = sp.get_path(37)\n",
      "path"
     ],
     "language": "python",
     "metadata": {},
     "outputs": [
      {
       "metadata": {},
       "output_type": "pyout",
       "prompt_number": 9,
       "text": [
        "[(81, 0.0),\n",
        " (0, 1.0),\n",
        " (9, 2.0),\n",
        " (24, 3.0),\n",
        " (22, 4.0),\n",
        " (88, 5.0),\n",
        " (78, 6.0),\n",
        " (58, 7.0),\n",
        " (32, 8.0),\n",
        " (37, 9.0)]"
       ]
      }
     ],
     "prompt_number": 9
    },
    {
     "cell_type": "markdown",
     "metadata": {},
     "source": [
      "We find the path between [81](http://github.com/beeva-marianmoldovan/hacknight-papis-bcn/blob/master/bcn-images-right/82.jpg) ([Torre Agbar](http://en.wikipedia.org/wiki/Torre_Agbar) at night) and [37](http://github.com/beeva-marianmoldovan/hacknight-papis-bcn/blob/master/bcn-images-right/38.jpg) ([Casa Batll\u00f3](http://en.wikipedia.org/wiki/Casa_Batll%C3%B3)): "
     ]
    },
    {
     "cell_type": "code",
     "collapsed": false,
     "input": [
      "for x in path:\n",
      "    x = x[0]\n",
      "    print str(x) + \": \" + url_image(x)\n",
      "    show_image(x)\n",
      "    "
     ],
     "language": "python",
     "metadata": {},
     "outputs": [
      {
       "output_type": "stream",
       "stream": "stdout",
       "text": [
        "81: http://raw.githubusercontent.com/beeva-marianmoldovan/hacknight-papis-bcn/master/bcn-images-right/82.jpg\n"
       ]
      },
      {
       "html": [
        "<img src=\"http://raw.githubusercontent.com/beeva-marianmoldovan/hacknight-papis-bcn/master/bcn-images-right/82.jpg\" width=\"100\" height=\"100\"/>"
       ],
       "metadata": {},
       "output_type": "display_data",
       "text": [
        "<IPython.core.display.Image at 0x7ff871c76e10>"
       ]
      },
      {
       "output_type": "stream",
       "stream": "stdout",
       "text": [
        "0: http://raw.githubusercontent.com/beeva-marianmoldovan/hacknight-papis-bcn/master/bcn-images-right/1.jpg\n"
       ]
      },
      {
       "html": [
        "<img src=\"http://raw.githubusercontent.com/beeva-marianmoldovan/hacknight-papis-bcn/master/bcn-images-right/1.jpg\" width=\"100\" height=\"100\"/>"
       ],
       "metadata": {},
       "output_type": "display_data",
       "text": [
        "<IPython.core.display.Image at 0x7ff871c76e10>"
       ]
      },
      {
       "output_type": "stream",
       "stream": "stdout",
       "text": [
        "9: http://raw.githubusercontent.com/beeva-marianmoldovan/hacknight-papis-bcn/master/bcn-images-right/10.jpg\n"
       ]
      },
      {
       "html": [
        "<img src=\"http://raw.githubusercontent.com/beeva-marianmoldovan/hacknight-papis-bcn/master/bcn-images-right/10.jpg\" width=\"100\" height=\"100\"/>"
       ],
       "metadata": {},
       "output_type": "display_data",
       "text": [
        "<IPython.core.display.Image at 0x7ff871c76e10>"
       ]
      },
      {
       "output_type": "stream",
       "stream": "stdout",
       "text": [
        "24: http://raw.githubusercontent.com/beeva-marianmoldovan/hacknight-papis-bcn/master/bcn-images-right/25.jpg\n"
       ]
      },
      {
       "html": [
        "<img src=\"http://raw.githubusercontent.com/beeva-marianmoldovan/hacknight-papis-bcn/master/bcn-images-right/25.jpg\" width=\"100\" height=\"100\"/>"
       ],
       "metadata": {},
       "output_type": "display_data",
       "text": [
        "<IPython.core.display.Image at 0x7ff871c76e10>"
       ]
      },
      {
       "output_type": "stream",
       "stream": "stdout",
       "text": [
        "22: http://raw.githubusercontent.com/beeva-marianmoldovan/hacknight-papis-bcn/master/bcn-images-right/23.jpg\n"
       ]
      },
      {
       "html": [
        "<img src=\"http://raw.githubusercontent.com/beeva-marianmoldovan/hacknight-papis-bcn/master/bcn-images-right/23.jpg\" width=\"100\" height=\"100\"/>"
       ],
       "metadata": {},
       "output_type": "display_data",
       "text": [
        "<IPython.core.display.Image at 0x7ff871c76e10>"
       ]
      },
      {
       "output_type": "stream",
       "stream": "stdout",
       "text": [
        "88: http://raw.githubusercontent.com/beeva-marianmoldovan/hacknight-papis-bcn/master/bcn-images-right/89.jpg\n"
       ]
      },
      {
       "html": [
        "<img src=\"http://raw.githubusercontent.com/beeva-marianmoldovan/hacknight-papis-bcn/master/bcn-images-right/89.jpg\" width=\"100\" height=\"100\"/>"
       ],
       "metadata": {},
       "output_type": "display_data",
       "text": [
        "<IPython.core.display.Image at 0x7ff871c76e10>"
       ]
      },
      {
       "output_type": "stream",
       "stream": "stdout",
       "text": [
        "78: http://raw.githubusercontent.com/beeva-marianmoldovan/hacknight-papis-bcn/master/bcn-images-right/79.jpg\n"
       ]
      },
      {
       "html": [
        "<img src=\"http://raw.githubusercontent.com/beeva-marianmoldovan/hacknight-papis-bcn/master/bcn-images-right/79.jpg\" width=\"100\" height=\"100\"/>"
       ],
       "metadata": {},
       "output_type": "display_data",
       "text": [
        "<IPython.core.display.Image at 0x7ff871c76e10>"
       ]
      },
      {
       "output_type": "stream",
       "stream": "stdout",
       "text": [
        "58: http://raw.githubusercontent.com/beeva-marianmoldovan/hacknight-papis-bcn/master/bcn-images-right/59.jpg\n"
       ]
      },
      {
       "html": [
        "<img src=\"http://raw.githubusercontent.com/beeva-marianmoldovan/hacknight-papis-bcn/master/bcn-images-right/59.jpg\" width=\"100\" height=\"100\"/>"
       ],
       "metadata": {},
       "output_type": "display_data",
       "text": [
        "<IPython.core.display.Image at 0x7ff871c76e10>"
       ]
      },
      {
       "output_type": "stream",
       "stream": "stdout",
       "text": [
        "32: http://raw.githubusercontent.com/beeva-marianmoldovan/hacknight-papis-bcn/master/bcn-images-right/33.jpg\n"
       ]
      },
      {
       "html": [
        "<img src=\"http://raw.githubusercontent.com/beeva-marianmoldovan/hacknight-papis-bcn/master/bcn-images-right/33.jpg\" width=\"100\" height=\"100\"/>"
       ],
       "metadata": {},
       "output_type": "display_data",
       "text": [
        "<IPython.core.display.Image at 0x7ff871c76e10>"
       ]
      },
      {
       "output_type": "stream",
       "stream": "stdout",
       "text": [
        "37: http://raw.githubusercontent.com/beeva-marianmoldovan/hacknight-papis-bcn/master/bcn-images-right/38.jpg\n"
       ]
      },
      {
       "html": [
        "<img src=\"http://raw.githubusercontent.com/beeva-marianmoldovan/hacknight-papis-bcn/master/bcn-images-right/38.jpg\" width=\"100\" height=\"100\"/>"
       ],
       "metadata": {},
       "output_type": "display_data",
       "text": [
        "<IPython.core.display.Image at 0x7ff871c76e10>"
       ]
      }
     ],
     "prompt_number": 10
    },
    {
     "cell_type": "markdown",
     "metadata": {},
     "source": [
      "___\n",
      "# Some checks, trials and errors\n",
      "1. Try to automatically get the shortest path from 81 to 37\n",
      "With k=4"
     ]
    },
    {
     "cell_type": "code",
     "collapsed": false,
     "input": [
      "sp['graph'].get_neighborhood(81,3).get_vertices()"
     ],
     "language": "python",
     "metadata": {},
     "outputs": [
      {
       "html": [
        "<div style=\"max-height:1000px;max-width:1500px;overflow:auto;\"><table frame=\"box\" rules=\"cols\">\n",
        "    <tr>\n",
        "        <th style=\"padding-left: 1em; padding-right: 1em; text-align: center\">__id</th>\n",
        "        <th style=\"padding-left: 1em; padding-right: 1em; text-align: center\">distance</th>\n",
        "    </tr>\n",
        "    <tr>\n",
        "        <td style=\"padding-left: 1em; padding-right: 1em; text-align: center; vertical-align: top\">33</td>\n",
        "        <td style=\"padding-left: 1em; padding-right: 1em; text-align: center; vertical-align: top\">2.0</td>\n",
        "    </tr>\n",
        "    <tr>\n",
        "        <td style=\"padding-left: 1em; padding-right: 1em; text-align: center; vertical-align: top\">5</td>\n",
        "        <td style=\"padding-left: 1em; padding-right: 1em; text-align: center; vertical-align: top\">3.0</td>\n",
        "    </tr>\n",
        "    <tr>\n",
        "        <td style=\"padding-left: 1em; padding-right: 1em; text-align: center; vertical-align: top\">23</td>\n",
        "        <td style=\"padding-left: 1em; padding-right: 1em; text-align: center; vertical-align: top\">1.0</td>\n",
        "    </tr>\n",
        "    <tr>\n",
        "        <td style=\"padding-left: 1em; padding-right: 1em; text-align: center; vertical-align: top\">16</td>\n",
        "        <td style=\"padding-left: 1em; padding-right: 1em; text-align: center; vertical-align: top\">3.0</td>\n",
        "    </tr>\n",
        "    <tr>\n",
        "        <td style=\"padding-left: 1em; padding-right: 1em; text-align: center; vertical-align: top\">0</td>\n",
        "        <td style=\"padding-left: 1em; padding-right: 1em; text-align: center; vertical-align: top\">1.0</td>\n",
        "    </tr>\n",
        "    <tr>\n",
        "        <td style=\"padding-left: 1em; padding-right: 1em; text-align: center; vertical-align: top\">86</td>\n",
        "        <td style=\"padding-left: 1em; padding-right: 1em; text-align: center; vertical-align: top\">1e+30</td>\n",
        "    </tr>\n",
        "    <tr>\n",
        "        <td style=\"padding-left: 1em; padding-right: 1em; text-align: center; vertical-align: top\">53</td>\n",
        "        <td style=\"padding-left: 1em; padding-right: 1em; text-align: center; vertical-align: top\">7.0</td>\n",
        "    </tr>\n",
        "    <tr>\n",
        "        <td style=\"padding-left: 1em; padding-right: 1em; text-align: center; vertical-align: top\">48</td>\n",
        "        <td style=\"padding-left: 1em; padding-right: 1em; text-align: center; vertical-align: top\">8.0</td>\n",
        "    </tr>\n",
        "    <tr>\n",
        "        <td style=\"padding-left: 1em; padding-right: 1em; text-align: center; vertical-align: top\">93</td>\n",
        "        <td style=\"padding-left: 1em; padding-right: 1em; text-align: center; vertical-align: top\">2.0</td>\n",
        "    </tr>\n",
        "    <tr>\n",
        "        <td style=\"padding-left: 1em; padding-right: 1em; text-align: center; vertical-align: top\">51</td>\n",
        "        <td style=\"padding-left: 1em; padding-right: 1em; text-align: center; vertical-align: top\">1e+30</td>\n",
        "    </tr>\n",
        "    <tr>\n",
        "        <td style=\"padding-left: 1em; padding-right: 1em; text-align: center; vertical-align: top\">...</td>\n",
        "        <td style=\"padding-left: 1em; padding-right: 1em; text-align: center; vertical-align: top\">...</td>\n",
        "    </tr>\n",
        "</table>\n",
        "[21 rows x 2 columns]<br/>Note: Only the head of the SFrame is printed.<br/>You can use print_rows(num_rows=m, num_columns=n) to print more rows and columns.\n",
        "</div>"
       ],
       "metadata": {},
       "output_type": "pyout",
       "prompt_number": 12,
       "text": [
        "Columns:\n",
        "\t__id\tint\n",
        "\tdistance\tfloat\n",
        "\n",
        "Rows: 21\n",
        "\n",
        "Data:\n",
        "+------+----------+\n",
        "| __id | distance |\n",
        "+------+----------+\n",
        "|  33  |   2.0    |\n",
        "|  5   |   3.0    |\n",
        "|  23  |   1.0    |\n",
        "|  16  |   3.0    |\n",
        "|  0   |   1.0    |\n",
        "|  86  |  1e+30   |\n",
        "|  53  |   7.0    |\n",
        "|  48  |   8.0    |\n",
        "|  93  |   2.0    |\n",
        "|  51  |  1e+30   |\n",
        "| ...  |   ...    |\n",
        "+------+----------+\n",
        "[21 rows x 2 columns]\n",
        "Note: Only the head of the SFrame is printed.\n",
        "You can use print_rows(num_rows=m, num_columns=n) to print more rows and columns."
       ]
      }
     ],
     "prompt_number": 12
    },
    {
     "cell_type": "markdown",
     "metadata": {},
     "source": [
      "Try to automatically get the shortest path from 81 to 37. With k=4 and weight_field='distance'"
     ]
    },
    {
     "cell_type": "code",
     "collapsed": false,
     "input": [
      "sf_nn = model.query(sf, k=4)\n",
      "sf_nn = sf_nn[sf_nn['distance'] > 0]\n",
      "sg_similarities = gl.SGraph().add_edges(sf_nn, src_field='query_label', dst_field='reference_label')"
     ],
     "language": "python",
     "metadata": {},
     "outputs": [
      {
       "html": [
        "<pre>PROGRESS: Starting to query</pre>"
       ],
       "metadata": {},
       "output_type": "display_data",
       "text": [
        "PROGRESS: Starting to query"
       ]
      },
      {
       "html": [
        "<pre>PROGRESS: +--------------+---------+-------------+--------------+</pre>"
       ],
       "metadata": {},
       "output_type": "display_data",
       "text": [
        "PROGRESS: +--------------+---------+-------------+--------------+"
       ]
      },
      {
       "html": [
        "<pre>PROGRESS: | Query points | # Pairs | % Complete. | Elapsed Time |</pre>"
       ],
       "metadata": {},
       "output_type": "display_data",
       "text": [
        "PROGRESS: | Query points | # Pairs | % Complete. | Elapsed Time |"
       ]
      },
      {
       "html": [
        "<pre>PROGRESS: +--------------+---------+-------------+--------------+</pre>"
       ],
       "metadata": {},
       "output_type": "display_data",
       "text": [
        "PROGRESS: +--------------+---------+-------------+--------------+"
       ]
      },
      {
       "html": [
        "<pre>PROGRESS: | 1            | 96      | 1           | 10.33ms      |</pre>"
       ],
       "metadata": {},
       "output_type": "display_data",
       "text": [
        "PROGRESS: | 1            | 96      | 1           | 10.33ms      |"
       ]
      },
      {
       "html": [
        "<pre>PROGRESS: | Done         |         | 100         | 20.989ms     |</pre>"
       ],
       "metadata": {},
       "output_type": "display_data",
       "text": [
        "PROGRESS: | Done         |         | 100         | 20.989ms     |"
       ]
      },
      {
       "html": [
        "<pre>PROGRESS: +--------------+---------+-------------+--------------+</pre>"
       ],
       "metadata": {},
       "output_type": "display_data",
       "text": [
        "PROGRESS: +--------------+---------+-------------+--------------+"
       ]
      },
      {
       "output_type": "stream",
       "stream": "stdout",
       "text": [
        "Starting model querying...\n"
       ]
      }
     ],
     "prompt_number": 13
    },
    {
     "cell_type": "code",
     "collapsed": false,
     "input": [
      "sp = gl.shortest_path.create(sg_similarities, weight_field='distance', source_vid=81)"
     ],
     "language": "python",
     "metadata": {},
     "outputs": [
      {
       "html": [
        "<pre>PROGRESS: +----------------------------+</pre>"
       ],
       "metadata": {},
       "output_type": "display_data",
       "text": [
        "PROGRESS: +----------------------------+"
       ]
      },
      {
       "html": [
        "<pre>PROGRESS: | Number of vertices updated |</pre>"
       ],
       "metadata": {},
       "output_type": "display_data",
       "text": [
        "PROGRESS: | Number of vertices updated |"
       ]
      },
      {
       "html": [
        "<pre>PROGRESS: +----------------------------+</pre>"
       ],
       "metadata": {},
       "output_type": "display_data",
       "text": [
        "PROGRESS: +----------------------------+"
       ]
      },
      {
       "html": [
        "<pre>PROGRESS: | 5                          |</pre>"
       ],
       "metadata": {},
       "output_type": "display_data",
       "text": [
        "PROGRESS: | 5                          |"
       ]
      },
      {
       "html": [
        "<pre>PROGRESS: | 21                         |</pre>"
       ],
       "metadata": {},
       "output_type": "display_data",
       "text": [
        "PROGRESS: | 21                         |"
       ]
      },
      {
       "html": [
        "<pre>PROGRESS: | 23                         |</pre>"
       ],
       "metadata": {},
       "output_type": "display_data",
       "text": [
        "PROGRESS: | 23                         |"
       ]
      },
      {
       "html": [
        "<pre>PROGRESS: | 7                          |</pre>"
       ],
       "metadata": {},
       "output_type": "display_data",
       "text": [
        "PROGRESS: | 7                          |"
       ]
      },
      {
       "html": [
        "<pre>PROGRESS: | 1                          |</pre>"
       ],
       "metadata": {},
       "output_type": "display_data",
       "text": [
        "PROGRESS: | 1                          |"
       ]
      },
      {
       "html": [
        "<pre>PROGRESS: | 0                          |</pre>"
       ],
       "metadata": {},
       "output_type": "display_data",
       "text": [
        "PROGRESS: | 0                          |"
       ]
      },
      {
       "html": [
        "<pre>PROGRESS: +----------------------------+</pre>"
       ],
       "metadata": {},
       "output_type": "display_data",
       "text": [
        "PROGRESS: +----------------------------+"
       ]
      }
     ],
     "prompt_number": 14
    },
    {
     "cell_type": "code",
     "collapsed": false,
     "input": [
      "sp.get_path(37)"
     ],
     "language": "python",
     "metadata": {},
     "outputs": [
      {
       "ename": "AssertionError",
       "evalue": "",
       "output_type": "pyerr",
       "traceback": [
        "\u001b[1;31m---------------------------------------------------------------------------\u001b[0m\n\u001b[1;31mAssertionError\u001b[0m                            Traceback (most recent call last)",
        "\u001b[1;32m<ipython-input-15-8a1640e0780d>\u001b[0m in \u001b[0;36m<module>\u001b[1;34m()\u001b[0m\n\u001b[1;32m----> 1\u001b[1;33m \u001b[0msp\u001b[0m\u001b[1;33m.\u001b[0m\u001b[0mget_path\u001b[0m\u001b[1;33m(\u001b[0m\u001b[1;36m37\u001b[0m\u001b[1;33m)\u001b[0m\u001b[1;33m\u001b[0m\u001b[0m\n\u001b[0m",
        "\u001b[1;32m/usr/local/lib/python2.7/dist-packages/graphlab/toolkits/graph_analytics/shortest_path.pyc\u001b[0m in \u001b[0;36mget_path\u001b[1;34m(self, vid, show, highlight, **kwargs)\u001b[0m\n\u001b[0;32m    146\u001b[0m             \u001b[0mparent_id\u001b[0m \u001b[1;33m=\u001b[0m \u001b[0mrecord\u001b[0m\u001b[1;33m[\u001b[0m\u001b[1;34m'parent_row_id'\u001b[0m\u001b[1;33m]\u001b[0m\u001b[1;33m\u001b[0m\u001b[0m\n\u001b[0;32m    147\u001b[0m             \u001b[1;32massert\u001b[0m \u001b[0mparent_id\u001b[0m \u001b[1;33m<\u001b[0m \u001b[0mlen\u001b[0m\u001b[1;33m(\u001b[0m\u001b[0mpath_query_table\u001b[0m\u001b[1;33m)\u001b[0m\u001b[1;33m\u001b[0m\u001b[0m\n\u001b[1;32m--> 148\u001b[1;33m             \u001b[1;32massert\u001b[0m \u001b[0mparent_id\u001b[0m \u001b[1;33m>=\u001b[0m \u001b[1;36m0\u001b[0m\u001b[1;33m\u001b[0m\u001b[0m\n\u001b[0m\u001b[0;32m    149\u001b[0m             \u001b[0mrecord\u001b[0m \u001b[1;33m=\u001b[0m \u001b[0mpath_query_table\u001b[0m\u001b[1;33m[\u001b[0m\u001b[0mparent_id\u001b[0m\u001b[1;33m]\u001b[0m\u001b[1;33m\u001b[0m\u001b[0m\n\u001b[0;32m    150\u001b[0m             \u001b[0mpath\u001b[0m\u001b[1;33m.\u001b[0m\u001b[0mappend\u001b[0m\u001b[1;33m(\u001b[0m\u001b[1;33m(\u001b[0m\u001b[0mrecord\u001b[0m\u001b[1;33m[\u001b[0m\u001b[1;34m'vid'\u001b[0m\u001b[1;33m]\u001b[0m\u001b[1;33m,\u001b[0m \u001b[0mrecord\u001b[0m\u001b[1;33m[\u001b[0m\u001b[1;34m'distance'\u001b[0m\u001b[1;33m]\u001b[0m\u001b[1;33m)\u001b[0m\u001b[1;33m)\u001b[0m\u001b[1;33m\u001b[0m\u001b[0m\n",
        "\u001b[1;31mAssertionError\u001b[0m: "
       ]
      }
     ],
     "prompt_number": 15
    },
    {
     "cell_type": "markdown",
     "metadata": {},
     "source": [
      "Error :("
     ]
    },
    {
     "cell_type": "code",
     "collapsed": false,
     "input": [
      "sp['graph'].get_neighborhood(81,3).get_vertices()"
     ],
     "language": "python",
     "metadata": {},
     "outputs": [
      {
       "html": [
        "<div style=\"max-height:1000px;max-width:1500px;overflow:auto;\"><table frame=\"box\" rules=\"cols\">\n",
        "    <tr>\n",
        "        <th style=\"padding-left: 1em; padding-right: 1em; text-align: center\">__id</th>\n",
        "        <th style=\"padding-left: 1em; padding-right: 1em; text-align: center\">distance</th>\n",
        "    </tr>\n",
        "    <tr>\n",
        "        <td style=\"padding-left: 1em; padding-right: 1em; text-align: center; vertical-align: top\">33</td>\n",
        "        <td style=\"padding-left: 1em; padding-right: 1em; text-align: center; vertical-align: top\">139.286439728</td>\n",
        "    </tr>\n",
        "    <tr>\n",
        "        <td style=\"padding-left: 1em; padding-right: 1em; text-align: center; vertical-align: top\">5</td>\n",
        "        <td style=\"padding-left: 1em; padding-right: 1em; text-align: center; vertical-align: top\">180.897512973</td>\n",
        "    </tr>\n",
        "    <tr>\n",
        "        <td style=\"padding-left: 1em; padding-right: 1em; text-align: center; vertical-align: top\">23</td>\n",
        "        <td style=\"padding-left: 1em; padding-right: 1em; text-align: center; vertical-align: top\">76.8396082305</td>\n",
        "    </tr>\n",
        "    <tr>\n",
        "        <td style=\"padding-left: 1em; padding-right: 1em; text-align: center; vertical-align: top\">16</td>\n",
        "        <td style=\"padding-left: 1em; padding-right: 1em; text-align: center; vertical-align: top\">185.055402101</td>\n",
        "    </tr>\n",
        "    <tr>\n",
        "        <td style=\"padding-left: 1em; padding-right: 1em; text-align: center; vertical-align: top\">0</td>\n",
        "        <td style=\"padding-left: 1em; padding-right: 1em; text-align: center; vertical-align: top\">74.9093267629</td>\n",
        "    </tr>\n",
        "    <tr>\n",
        "        <td style=\"padding-left: 1em; padding-right: 1em; text-align: center; vertical-align: top\">86</td>\n",
        "        <td style=\"padding-left: 1em; padding-right: 1em; text-align: center; vertical-align: top\">1e+30</td>\n",
        "    </tr>\n",
        "    <tr>\n",
        "        <td style=\"padding-left: 1em; padding-right: 1em; text-align: center; vertical-align: top\">53</td>\n",
        "        <td style=\"padding-left: 1em; padding-right: 1em; text-align: center; vertical-align: top\">366.722753805</td>\n",
        "    </tr>\n",
        "    <tr>\n",
        "        <td style=\"padding-left: 1em; padding-right: 1em; text-align: center; vertical-align: top\">48</td>\n",
        "        <td style=\"padding-left: 1em; padding-right: 1em; text-align: center; vertical-align: top\">420.071415164</td>\n",
        "    </tr>\n",
        "    <tr>\n",
        "        <td style=\"padding-left: 1em; padding-right: 1em; text-align: center; vertical-align: top\">93</td>\n",
        "        <td style=\"padding-left: 1em; padding-right: 1em; text-align: center; vertical-align: top\">132.589072131</td>\n",
        "    </tr>\n",
        "    <tr>\n",
        "        <td style=\"padding-left: 1em; padding-right: 1em; text-align: center; vertical-align: top\">51</td>\n",
        "        <td style=\"padding-left: 1em; padding-right: 1em; text-align: center; vertical-align: top\">1e+30</td>\n",
        "    </tr>\n",
        "    <tr>\n",
        "        <td style=\"padding-left: 1em; padding-right: 1em; text-align: center; vertical-align: top\">...</td>\n",
        "        <td style=\"padding-left: 1em; padding-right: 1em; text-align: center; vertical-align: top\">...</td>\n",
        "    </tr>\n",
        "</table>\n",
        "[21 rows x 2 columns]<br/>Note: Only the head of the SFrame is printed.<br/>You can use print_rows(num_rows=m, num_columns=n) to print more rows and columns.\n",
        "</div>"
       ],
       "metadata": {},
       "output_type": "pyout",
       "prompt_number": 16,
       "text": [
        "Columns:\n",
        "\t__id\tint\n",
        "\tdistance\tfloat\n",
        "\n",
        "Rows: 21\n",
        "\n",
        "Data:\n",
        "+------+---------------+\n",
        "| __id |    distance   |\n",
        "+------+---------------+\n",
        "|  33  | 139.286439728 |\n",
        "|  5   | 180.897512973 |\n",
        "|  23  | 76.8396082305 |\n",
        "|  16  | 185.055402101 |\n",
        "|  0   | 74.9093267629 |\n",
        "|  86  |     1e+30     |\n",
        "|  53  | 366.722753805 |\n",
        "|  48  | 420.071415164 |\n",
        "|  93  | 132.589072131 |\n",
        "|  51  |     1e+30     |\n",
        "| ...  |      ...      |\n",
        "+------+---------------+\n",
        "[21 rows x 2 columns]\n",
        "Note: Only the head of the SFrame is printed.\n",
        "You can use print_rows(num_rows=m, num_columns=n) to print more rows and columns."
       ]
      }
     ],
     "prompt_number": 16
    },
    {
     "cell_type": "code",
     "collapsed": false,
     "input": [],
     "language": "python",
     "metadata": {},
     "outputs": [],
     "prompt_number": 16
    },
    {
     "cell_type": "code",
     "collapsed": false,
     "input": [],
     "language": "python",
     "metadata": {},
     "outputs": []
    }
   ],
   "metadata": {}
  }
 ]
}