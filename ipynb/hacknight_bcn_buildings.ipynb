{
 "metadata": {
  "name": ""
 },
 "nbformat": 3,
 "nbformat_minor": 0,
 "worksheets": [
  {
   "cells": [
    {
     "cell_type": "markdown",
     "metadata": {},
     "source": [
      "## Get Image dataset\n",
      "Using Google images query"
     ]
    },
    {
     "cell_type": "code",
     "collapsed": false,
     "input": [
      "import json\n",
      "import os\n",
      "import time\n",
      "import requests\n",
      "from PIL import Image\n",
      "from StringIO import StringIO\n",
      "from requests.exceptions import ConnectionError\n",
      " \n",
      "size = 256,256\n",
      "\n",
      "def go(query, path):\n",
      "  BASE_URL = 'https://ajax.googleapis.com/ajax/services/search/images?'\\\n",
      "             'v=1.0&q=' + query + '&start=%d'\n",
      "  \n",
      "  if not os.path.exists(path):\n",
      "    os.makedirs(path)\n",
      " \n",
      "  start = 0\n",
      "  while start < 60:\n",
      "    r = requests.get(BASE_URL % start)\n",
      "    if json.loads(r.text)['responseData']['results'] is not None:\n",
      "      for image_info in json.loads(r.text)['responseData']['results']:\n",
      "        url = image_info['unescapedUrl']\n",
      "        try:\n",
      "          image_r = requests.get(url)\n",
      "        except ConnectionError, e:\n",
      "          print 'could not download %s' % url\n",
      "          continue\n",
      "        title = image_info['titleNoFormatting'].replace('/', '').replace('\\\\', '')\n",
      "        file = open(os.path.join(path, '%s.jpg') % title, 'w')\n",
      "        try:\n",
      "          img = Image.open(StringIO(image_r.content))\n",
      "          img.thumbnail(size, Image.ANTIALIAS)\n",
      "          Image.open(StringIO(image_r.content)).save(file, 'JPEG')\n",
      "          imread(file.name)\n",
      "        except IOError, e:\n",
      "          os.remove(file.name)\n",
      "          continue\n",
      "        finally:\n",
      "          file.close()\n",
      "      start += 4\n",
      "\n",
      "def clean(path):\n",
      "  i = 0\n",
      "  for f in os.listdir(path):\n",
      "    os.rename(path + '/' + f, path + '/' + str(i) + '.jpg')\n",
      "    i += 1\n",
      "\n",
      " \n",
      "go('barcelona building', 'images')\n",
      "go('barcelona buildings', 'images')\n",
      "\n",
      "clean('images')"
     ],
     "language": "python",
     "metadata": {},
     "outputs": [],
     "prompt_number": 53
    },
    {
     "cell_type": "markdown",
     "metadata": {},
     "source": [
      "## Feature extraction\n",
      "Using Indico.IO API"
     ]
    },
    {
     "cell_type": "code",
     "collapsed": false,
     "input": [
      "from scipy.misc import imsave, imread\n",
      "from indicoio import image_features\n",
      "import numpy, os, csv\n",
      "import natsort"
     ],
     "language": "python",
     "metadata": {},
     "outputs": [],
     "prompt_number": 56
    },
    {
     "cell_type": "markdown",
     "metadata": {},
     "source": [
      "Image directory, sorted, beacause index..."
     ]
    },
    {
     "cell_type": "code",
     "collapsed": false,
     "input": [
      "root = 'images'\n",
      "output = csv.writer(open('features.csv', 'wb'))\n",
      "\n",
      "dirlist = os.listdir(root)\n",
      "dirlist = natsort.natsorted(dirlist)\n",
      "\n",
      "images = []\n",
      "\n",
      "for f in dirlist:\n",
      "    try:\n",
      "        img = imread(root + '/' + f)\n",
      "        features = image_features(img)\n",
      "        output.writerow(features)\n",
      "    except IOError, e:\n",
      "        #If the image is corrupted, insert empty array\n",
      "        output.writerow([0 for x in range(2048)])\n",
      "        continue   "
     ],
     "language": "python",
     "metadata": {},
     "outputs": [
      {
       "output_type": "stream",
       "stream": "stdout",
       "text": [
        "0.jpg\n",
        "1.jpg"
       ]
      },
      {
       "output_type": "stream",
       "stream": "stdout",
       "text": [
        "\n",
        "2.jpg"
       ]
      },
      {
       "output_type": "stream",
       "stream": "stdout",
       "text": [
        "\n",
        "3.jpg"
       ]
      },
      {
       "output_type": "stream",
       "stream": "stdout",
       "text": [
        "\n",
        "4.jpg"
       ]
      },
      {
       "output_type": "stream",
       "stream": "stdout",
       "text": [
        "\n",
        "5.jpg"
       ]
      },
      {
       "output_type": "stream",
       "stream": "stdout",
       "text": [
        "\n",
        "6.jpg"
       ]
      },
      {
       "output_type": "stream",
       "stream": "stdout",
       "text": [
        "\n",
        "7.jpg"
       ]
      },
      {
       "output_type": "stream",
       "stream": "stdout",
       "text": [
        "\n",
        "8.jpg"
       ]
      },
      {
       "output_type": "stream",
       "stream": "stdout",
       "text": [
        "\n",
        "9.jpg"
       ]
      },
      {
       "output_type": "stream",
       "stream": "stdout",
       "text": [
        "\n",
        "10.jpg"
       ]
      },
      {
       "output_type": "stream",
       "stream": "stdout",
       "text": [
        "\n",
        "11.jpg"
       ]
      },
      {
       "output_type": "stream",
       "stream": "stdout",
       "text": [
        "\n",
        "12.jpg"
       ]
      },
      {
       "output_type": "stream",
       "stream": "stdout",
       "text": [
        "\n",
        "13.jpg"
       ]
      },
      {
       "output_type": "stream",
       "stream": "stdout",
       "text": [
        "\n",
        "14.jpg"
       ]
      },
      {
       "output_type": "stream",
       "stream": "stdout",
       "text": [
        "\n",
        "15.jpg"
       ]
      },
      {
       "output_type": "stream",
       "stream": "stdout",
       "text": [
        "\n",
        "16.jpg"
       ]
      },
      {
       "output_type": "stream",
       "stream": "stdout",
       "text": [
        "\n",
        "17.jpg"
       ]
      },
      {
       "output_type": "stream",
       "stream": "stdout",
       "text": [
        "\n",
        "18.jpg"
       ]
      },
      {
       "output_type": "stream",
       "stream": "stdout",
       "text": [
        "\n",
        "19.jpg"
       ]
      },
      {
       "output_type": "stream",
       "stream": "stdout",
       "text": [
        "\n",
        "20.jpg"
       ]
      },
      {
       "output_type": "stream",
       "stream": "stdout",
       "text": [
        "\n",
        "21.jpg"
       ]
      },
      {
       "output_type": "stream",
       "stream": "stdout",
       "text": [
        "\n",
        "22.jpg"
       ]
      },
      {
       "output_type": "stream",
       "stream": "stdout",
       "text": [
        "\n",
        "23.jpg"
       ]
      },
      {
       "output_type": "stream",
       "stream": "stdout",
       "text": [
        "\n",
        "24.jpg"
       ]
      },
      {
       "output_type": "stream",
       "stream": "stdout",
       "text": [
        "\n",
        "25.jpg"
       ]
      },
      {
       "output_type": "stream",
       "stream": "stdout",
       "text": [
        "\n",
        "26.jpg"
       ]
      },
      {
       "output_type": "stream",
       "stream": "stdout",
       "text": [
        "\n",
        "27.jpg"
       ]
      },
      {
       "output_type": "stream",
       "stream": "stdout",
       "text": [
        "\n",
        "28.jpg"
       ]
      },
      {
       "output_type": "stream",
       "stream": "stdout",
       "text": [
        "\n",
        "29.jpg"
       ]
      },
      {
       "output_type": "stream",
       "stream": "stdout",
       "text": [
        "\n",
        "30.jpg"
       ]
      },
      {
       "output_type": "stream",
       "stream": "stdout",
       "text": [
        "\n",
        "31.jpg"
       ]
      },
      {
       "output_type": "stream",
       "stream": "stdout",
       "text": [
        "\n",
        "32.jpg"
       ]
      },
      {
       "output_type": "stream",
       "stream": "stdout",
       "text": [
        "\n",
        "33.jpg"
       ]
      },
      {
       "output_type": "stream",
       "stream": "stdout",
       "text": [
        "\n",
        "34.jpg"
       ]
      },
      {
       "output_type": "stream",
       "stream": "stdout",
       "text": [
        "\n",
        "35.jpg"
       ]
      },
      {
       "output_type": "stream",
       "stream": "stdout",
       "text": [
        "\n",
        "36.jpg"
       ]
      },
      {
       "output_type": "stream",
       "stream": "stdout",
       "text": [
        "\n",
        "37.jpg"
       ]
      },
      {
       "output_type": "stream",
       "stream": "stdout",
       "text": [
        "\n",
        "38.jpg"
       ]
      },
      {
       "output_type": "stream",
       "stream": "stdout",
       "text": [
        "\n",
        "39.jpg"
       ]
      },
      {
       "output_type": "stream",
       "stream": "stdout",
       "text": [
        "\n",
        "40.jpg"
       ]
      },
      {
       "output_type": "stream",
       "stream": "stdout",
       "text": [
        "\n",
        "41.jpg"
       ]
      },
      {
       "output_type": "stream",
       "stream": "stdout",
       "text": [
        "\n",
        "42.jpg"
       ]
      },
      {
       "output_type": "stream",
       "stream": "stdout",
       "text": [
        "\n",
        "43.jpg"
       ]
      },
      {
       "output_type": "stream",
       "stream": "stdout",
       "text": [
        "\n",
        "44.jpg"
       ]
      },
      {
       "output_type": "stream",
       "stream": "stdout",
       "text": [
        "\n",
        "45.jpg"
       ]
      },
      {
       "output_type": "stream",
       "stream": "stdout",
       "text": [
        "\n",
        "46.jpg"
       ]
      },
      {
       "output_type": "stream",
       "stream": "stdout",
       "text": [
        "\n",
        "47.jpg"
       ]
      },
      {
       "output_type": "stream",
       "stream": "stdout",
       "text": [
        "\n",
        "48.jpg"
       ]
      },
      {
       "output_type": "stream",
       "stream": "stdout",
       "text": [
        "\n",
        "49.jpg"
       ]
      },
      {
       "output_type": "stream",
       "stream": "stdout",
       "text": [
        "\n",
        "50.jpg"
       ]
      },
      {
       "output_type": "stream",
       "stream": "stdout",
       "text": [
        "\n",
        "51.jpg"
       ]
      },
      {
       "output_type": "stream",
       "stream": "stdout",
       "text": [
        "\n",
        "52.jpg"
       ]
      },
      {
       "output_type": "stream",
       "stream": "stdout",
       "text": [
        "\n",
        "53.jpg"
       ]
      },
      {
       "output_type": "stream",
       "stream": "stdout",
       "text": [
        "\n",
        "54.jpg"
       ]
      },
      {
       "output_type": "stream",
       "stream": "stdout",
       "text": [
        "\n",
        "55.jpg"
       ]
      },
      {
       "output_type": "stream",
       "stream": "stdout",
       "text": [
        "\n",
        "56.jpg"
       ]
      },
      {
       "output_type": "stream",
       "stream": "stdout",
       "text": [
        "\n",
        "57.jpg"
       ]
      },
      {
       "output_type": "stream",
       "stream": "stdout",
       "text": [
        "\n",
        "58.jpg"
       ]
      },
      {
       "output_type": "stream",
       "stream": "stdout",
       "text": [
        "\n",
        "59.jpg"
       ]
      },
      {
       "output_type": "stream",
       "stream": "stdout",
       "text": [
        "\n",
        "60.jpg"
       ]
      },
      {
       "output_type": "stream",
       "stream": "stdout",
       "text": [
        "\n",
        "61.jpg"
       ]
      },
      {
       "output_type": "stream",
       "stream": "stdout",
       "text": [
        "\n",
        "62.jpg"
       ]
      },
      {
       "output_type": "stream",
       "stream": "stdout",
       "text": [
        "\n",
        "63.jpg"
       ]
      },
      {
       "output_type": "stream",
       "stream": "stdout",
       "text": [
        "\n",
        "64.jpg"
       ]
      },
      {
       "output_type": "stream",
       "stream": "stdout",
       "text": [
        "\n",
        "65.jpg"
       ]
      },
      {
       "output_type": "stream",
       "stream": "stdout",
       "text": [
        "\n",
        "66.jpg"
       ]
      },
      {
       "output_type": "stream",
       "stream": "stdout",
       "text": [
        "\n",
        "67.jpg"
       ]
      },
      {
       "output_type": "stream",
       "stream": "stdout",
       "text": [
        "\n",
        "68.jpg"
       ]
      },
      {
       "output_type": "stream",
       "stream": "stdout",
       "text": [
        "\n",
        "69.jpg"
       ]
      },
      {
       "output_type": "stream",
       "stream": "stdout",
       "text": [
        "\n",
        "70.jpg"
       ]
      },
      {
       "output_type": "stream",
       "stream": "stdout",
       "text": [
        "\n",
        "71.jpg"
       ]
      },
      {
       "output_type": "stream",
       "stream": "stdout",
       "text": [
        "\n",
        "72.jpg"
       ]
      },
      {
       "output_type": "stream",
       "stream": "stdout",
       "text": [
        "\n",
        "73.jpg"
       ]
      },
      {
       "output_type": "stream",
       "stream": "stdout",
       "text": [
        "\n",
        "74.jpg"
       ]
      },
      {
       "output_type": "stream",
       "stream": "stdout",
       "text": [
        "\n",
        "75.jpg"
       ]
      },
      {
       "output_type": "stream",
       "stream": "stdout",
       "text": [
        "\n",
        "76.jpg"
       ]
      },
      {
       "output_type": "stream",
       "stream": "stdout",
       "text": [
        "\n",
        "77.jpg"
       ]
      },
      {
       "output_type": "stream",
       "stream": "stdout",
       "text": [
        "\n",
        "78.jpg"
       ]
      },
      {
       "output_type": "stream",
       "stream": "stdout",
       "text": [
        "\n",
        "79.jpg"
       ]
      },
      {
       "output_type": "stream",
       "stream": "stdout",
       "text": [
        "\n",
        "80.jpg"
       ]
      },
      {
       "output_type": "stream",
       "stream": "stdout",
       "text": [
        "\n",
        "81.jpg"
       ]
      },
      {
       "output_type": "stream",
       "stream": "stdout",
       "text": [
        "\n",
        "82.jpg"
       ]
      },
      {
       "output_type": "stream",
       "stream": "stdout",
       "text": [
        "\n",
        "83.jpg"
       ]
      },
      {
       "output_type": "stream",
       "stream": "stdout",
       "text": [
        "\n",
        "84.jpg"
       ]
      },
      {
       "output_type": "stream",
       "stream": "stdout",
       "text": [
        "\n",
        "85.jpg"
       ]
      },
      {
       "output_type": "stream",
       "stream": "stdout",
       "text": [
        "\n",
        "86.jpg"
       ]
      },
      {
       "output_type": "stream",
       "stream": "stdout",
       "text": [
        "\n",
        "87.jpg"
       ]
      },
      {
       "output_type": "stream",
       "stream": "stdout",
       "text": [
        "\n",
        "88.jpg"
       ]
      },
      {
       "output_type": "stream",
       "stream": "stdout",
       "text": [
        "\n"
       ]
      }
     ],
     "prompt_number": 57
    },
    {
     "cell_type": "code",
     "collapsed": false,
     "input": [
      "import sys\n",
      "sys.path.append(\"/usr/local/lib/python2.7/dist-packages/\")"
     ],
     "language": "python",
     "metadata": {},
     "outputs": [],
     "prompt_number": 1
    },
    {
     "cell_type": "code",
     "collapsed": false,
     "input": [
      "import graphlab as gl\n"
     ],
     "language": "python",
     "metadata": {},
     "outputs": [],
     "prompt_number": 2
    },
    {
     "cell_type": "markdown",
     "metadata": {},
     "source": [
      "## Get image features\n",
      "\n",
      "1. Google Images \"Barcelona buildings\" ~ 100 images\n",
      "2. Features extracted with http://indico.io API\n",
      "3. Code and resources pushed to [github](https://github.com/beeva-marianmoldovan/hacknight-papis-bcn) "
     ]
    },
    {
     "cell_type": "code",
     "collapsed": false,
     "input": [
      "sf = gl.SFrame.read_csv('https://raw.githubusercontent.com/beeva-marianmoldovan/hacknight-papis-bcn/master/features_sorted_f.csv', header=False, column_type_hints=float) "
     ],
     "language": "python",
     "metadata": {},
     "outputs": [
      {
       "output_type": "stream",
       "stream": "stderr",
       "text": [
        "[INFO] Start server at: ipc:///tmp/graphlab_server-5861 - Server binary: /usr/local/lib/python2.7/dist-packages/graphlab/unity_server - Server log: /tmp/graphlab_server_1417712978.log\n"
       ]
      },
      {
       "output_type": "stream",
       "stream": "stderr",
       "text": [
        "[INFO] GraphLab Server Version: 1.1\n"
       ]
      },
      {
       "html": [
        "<pre>PROGRESS: Finished parsing file https://raw.githubusercontent.com/beeva-marianmoldovan/hacknight-papis-bcn/master/features_sorted_f.csv</pre>"
       ],
       "metadata": {},
       "output_type": "display_data",
       "text": [
        "PROGRESS: Finished parsing file https://raw.githubusercontent.com/beeva-marianmoldovan/hacknight-papis-bcn/master/features_sorted_f.csv"
       ]
      },
      {
       "html": [
        "<pre>PROGRESS: Parsing completed. Parsed 96 lines in 0.053016 secs.</pre>"
       ],
       "metadata": {},
       "output_type": "display_data",
       "text": [
        "PROGRESS: Parsing completed. Parsed 96 lines in 0.053016 secs."
       ]
      }
     ],
     "prompt_number": 3
    },
    {
     "cell_type": "markdown",
     "metadata": {},
     "source": [
      "___\n",
      "# Example 0\n",
      "\n",
      "1. Project into 4D with an R implementation of [t-SNE over OpenGL](https://github.com/beeva-marianmoldovan/hacknight-papis-bcn/blob/master/R/tsne_bcn.R)\n",
      "\n",
      "2. [Visualize demo](https://github.com/beeva-marianmoldovan/hacknight-papis-bcn/blob/master/R%20representation.gif)"
     ]
    },
    {
     "cell_type": "markdown",
     "metadata": {},
     "source": [
      "___\n",
      "# Example 1\n",
      "1. Get k= 2 nearest neighbors\n",
      "2. Get similarity graph\n",
      "3. Create shortest path tree from node 81 (image 82: http://github.com/beeva-marianmoldovan/hacknight-papis-bcn/blob/master/bcn-images-right/82.jpg)\n",
      "4. Plot"
     ]
    },
    {
     "cell_type": "code",
     "collapsed": false,
     "input": [
      "model = gl.nearest_neighbors.create(sf, distance='euclidean')\n",
      "sf_nn = model.query(sf, k=2)\n",
      "sf_nn = sf_nn.filter_by([0.0], 'distance', exclude=True)\n",
      "sg_similarities = gl.SGraph().add_edges(sf_nn, src_field='query_label', dst_field='reference_label')"
     ],
     "language": "python",
     "metadata": {},
     "outputs": [
      {
       "output_type": "stream",
       "stream": "stdout",
       "text": [
        "Starting model construction...\n"
       ]
      },
      {
       "output_type": "stream",
       "stream": "stdout",
       "text": [
        "\n",
        "                    Model summary                       \n",
        "--------------------------------------------------------\n",
        "Class                         : NearestNeighborsModel\n",
        "Distance                      : euclidean\n",
        "Method                        : brute force\n",
        "Number of examples            : 96\n",
        "Number of feature columns     : 2048\n",
        "Number of unpacked features   : 2048\n",
        "Total training time (seconds) : 1.2226\n",
        "\n",
        "\n",
        "Starting model querying..."
       ]
      },
      {
       "html": [
        "<pre>PROGRESS: Starting to query</pre>"
       ],
       "metadata": {},
       "output_type": "display_data",
       "text": [
        "PROGRESS: Starting to query"
       ]
      },
      {
       "html": [
        "<pre>PROGRESS: +--------------+---------+-------------+--------------+</pre>"
       ],
       "metadata": {},
       "output_type": "display_data",
       "text": [
        "PROGRESS: +--------------+---------+-------------+--------------+"
       ]
      },
      {
       "html": [
        "<pre>PROGRESS: | Query points | # Pairs | % Complete. | Elapsed Time |</pre>"
       ],
       "metadata": {},
       "output_type": "display_data",
       "text": [
        "PROGRESS: | Query points | # Pairs | % Complete. | Elapsed Time |"
       ]
      },
      {
       "html": [
        "<pre>PROGRESS: +--------------+---------+-------------+--------------+</pre>"
       ],
       "metadata": {},
       "output_type": "display_data",
       "text": [
        "PROGRESS: +--------------+---------+-------------+--------------+"
       ]
      },
      {
       "html": [
        "<pre>PROGRESS: | 1            | 96      | 1           | 1.00s        |</pre>"
       ],
       "metadata": {},
       "output_type": "display_data",
       "text": [
        "PROGRESS: | 1            | 96      | 1           | 1.00s        |"
       ]
      },
      {
       "html": [
        "<pre>PROGRESS: | 5            | 480     | 5           | 1.00s        |</pre>"
       ],
       "metadata": {},
       "output_type": "display_data",
       "text": [
        "PROGRESS: | 5            | 480     | 5           | 1.00s        |"
       ]
      },
      {
       "html": [
        "<pre>PROGRESS: | Done         |         | 100         | 1.02s        |</pre>"
       ],
       "metadata": {},
       "output_type": "display_data",
       "text": [
        "PROGRESS: | Done         |         | 100         | 1.02s        |"
       ]
      },
      {
       "html": [
        "<pre>PROGRESS: +--------------+---------+-------------+--------------+</pre>"
       ],
       "metadata": {},
       "output_type": "display_data",
       "text": [
        "PROGRESS: +--------------+---------+-------------+--------------+"
       ]
      },
      {
       "output_type": "stream",
       "stream": "stdout",
       "text": [
        "\n"
       ]
      }
     ],
     "prompt_number": 4
    },
    {
     "cell_type": "code",
     "collapsed": false,
     "input": [
      "sp = gl.shortest_path.create(sg_similarities, weight_field='distance', source_vid=81)\n",
      "sp_graph = sp['graph']\n",
      "sp_graph.show(vlabel='id', highlight=[81,37])"
     ],
     "language": "python",
     "metadata": {},
     "outputs": [
      {
       "html": [
        "<pre>PROGRESS: +----------------------------+</pre>"
       ],
       "metadata": {},
       "output_type": "display_data",
       "text": [
        "PROGRESS: +----------------------------+"
       ]
      },
      {
       "html": [
        "<pre>PROGRESS: | Number of vertices updated |</pre>"
       ],
       "metadata": {},
       "output_type": "display_data",
       "text": [
        "PROGRESS: | Number of vertices updated |"
       ]
      },
      {
       "html": [
        "<pre>PROGRESS: +----------------------------+</pre>"
       ],
       "metadata": {},
       "output_type": "display_data",
       "text": [
        "PROGRESS: +----------------------------+"
       ]
      },
      {
       "html": [
        "<pre>PROGRESS: | 1                          |</pre>"
       ],
       "metadata": {},
       "output_type": "display_data",
       "text": [
        "PROGRESS: | 1                          |"
       ]
      },
      {
       "html": [
        "<pre>PROGRESS: | 0                          |</pre>"
       ],
       "metadata": {},
       "output_type": "display_data",
       "text": [
        "PROGRESS: | 0                          |"
       ]
      },
      {
       "html": [
        "<pre>PROGRESS: +----------------------------+</pre>"
       ],
       "metadata": {},
       "output_type": "display_data",
       "text": [
        "PROGRESS: +----------------------------+"
       ]
      }
     ],
     "prompt_number": 5
    },
    {
     "cell_type": "markdown",
     "metadata": {},
     "source": [
      "## Results\n",
      "With k=2 neighbors we get unconnected clusters\n",
      "\n",
      "We identify visually clusters centered on [25](http://github.com/beeva-marianmoldovan/hacknight-papis-bcn/blob/master/bcn-images-right/26.jpg) ([Torre Agbar](http://en.wikipedia.org/wiki/Torre_Agbar)), [13](http://github.com/beeva-marianmoldovan/hacknight-papis-bcn/blob/master/bcn-images-right/14.jpg) ([Casa Mil\u00e0](http://en.wikipedia.org/wiki/Casa_Mil%C3%A0)) or [34](http://github.com/beeva-marianmoldovan/hacknight-papis-bcn/blob/master/bcn-images-right/35.jpg) ([Sagrada Familia](http://en.wikipedia.org/wiki/Sagrada_Fam%C3%ADlia)) for instance."
     ]
    },
    {
     "cell_type": "markdown",
     "metadata": {},
     "source": [
      "___\n",
      "# Example 2\n",
      "1. Get k= 3 nearest neighbors\n",
      "2. Get similarity graph\n",
      "3. Create shortest path tree from node [81](http://github.com/beeva-marianmoldovan/hacknight-papis-bcn/blob/master/bcn-images-right/82.jpg) ([Torre Agbar](http://en.wikipedia.org/wiki/Torre_Agbar) at night)\n",
      "4. Plot\n",
      "\n",
      "\n"
     ]
    },
    {
     "cell_type": "code",
     "collapsed": false,
     "input": [
      "sf_nn = model.query(sf, k=3)\n",
      "sf_nn = sf_nn.filter_by([0.0], 'distance', exclude=True)\n",
      "sg_similarities = gl.SGraph().add_edges(sf_nn, src_field='query_label', dst_field='reference_label')"
     ],
     "language": "python",
     "metadata": {},
     "outputs": [
      {
       "html": [
        "<pre>PROGRESS: Starting to query</pre>"
       ],
       "metadata": {},
       "output_type": "display_data",
       "text": [
        "PROGRESS: Starting to query"
       ]
      },
      {
       "html": [
        "<pre>PROGRESS: +--------------+---------+-------------+--------------+</pre>"
       ],
       "metadata": {},
       "output_type": "display_data",
       "text": [
        "PROGRESS: +--------------+---------+-------------+--------------+"
       ]
      },
      {
       "html": [
        "<pre>PROGRESS: | Query points | # Pairs | % Complete. | Elapsed Time |</pre>"
       ],
       "metadata": {},
       "output_type": "display_data",
       "text": [
        "PROGRESS: | Query points | # Pairs | % Complete. | Elapsed Time |"
       ]
      },
      {
       "html": [
        "<pre>PROGRESS: +--------------+---------+-------------+--------------+</pre>"
       ],
       "metadata": {},
       "output_type": "display_data",
       "text": [
        "PROGRESS: +--------------+---------+-------------+--------------+"
       ]
      },
      {
       "html": [
        "<pre>PROGRESS: | 1            | 96      | 1           | 6.079ms      |</pre>"
       ],
       "metadata": {},
       "output_type": "display_data",
       "text": [
        "PROGRESS: | 1            | 96      | 1           | 6.079ms      |"
       ]
      },
      {
       "html": [
        "<pre>PROGRESS: | Done         |         | 100         | 18.623ms     |</pre>"
       ],
       "metadata": {},
       "output_type": "display_data",
       "text": [
        "PROGRESS: | Done         |         | 100         | 18.623ms     |"
       ]
      },
      {
       "html": [
        "<pre>PROGRESS: +--------------+---------+-------------+--------------+</pre>"
       ],
       "metadata": {},
       "output_type": "display_data",
       "text": [
        "PROGRESS: +--------------+---------+-------------+--------------+"
       ]
      },
      {
       "output_type": "stream",
       "stream": "stdout",
       "text": [
        "Starting model querying...\n"
       ]
      }
     ],
     "prompt_number": 6
    },
    {
     "cell_type": "code",
     "collapsed": false,
     "input": [
      "sp = gl.shortest_path.create(sg_similarities, weight_field='distance', source_vid=81)\n",
      "sp_graph = sp['graph']\n",
      "sp_graph.show(vlabel='id', highlight=[81,37])"
     ],
     "language": "python",
     "metadata": {},
     "outputs": [
      {
       "html": [
        "<pre>PROGRESS: +----------------------------+</pre>"
       ],
       "metadata": {},
       "output_type": "display_data",
       "text": [
        "PROGRESS: +----------------------------+"
       ]
      },
      {
       "html": [
        "<pre>PROGRESS: | Number of vertices updated |</pre>"
       ],
       "metadata": {},
       "output_type": "display_data",
       "text": [
        "PROGRESS: | Number of vertices updated |"
       ]
      },
      {
       "html": [
        "<pre>PROGRESS: +----------------------------+</pre>"
       ],
       "metadata": {},
       "output_type": "display_data",
       "text": [
        "PROGRESS: +----------------------------+"
       ]
      },
      {
       "html": [
        "<pre>PROGRESS: | 3                          |</pre>"
       ],
       "metadata": {},
       "output_type": "display_data",
       "text": [
        "PROGRESS: | 3                          |"
       ]
      },
      {
       "html": [
        "<pre>PROGRESS: | 6                          |</pre>"
       ],
       "metadata": {},
       "output_type": "display_data",
       "text": [
        "PROGRESS: | 6                          |"
       ]
      },
      {
       "html": [
        "<pre>PROGRESS: | 0                          |</pre>"
       ],
       "metadata": {},
       "output_type": "display_data",
       "text": [
        "PROGRESS: | 0                          |"
       ]
      },
      {
       "html": [
        "<pre>PROGRESS: +----------------------------+</pre>"
       ],
       "metadata": {},
       "output_type": "display_data",
       "text": [
        "PROGRESS: +----------------------------+"
       ]
      }
     ],
     "prompt_number": 7
    },
    {
     "cell_type": "markdown",
     "metadata": {},
     "source": [
      "## Results\n",
      "With k=3 neighbors we get a connected graph\n",
      "\n",
      "We find visually the path between [81](http://github.com/beeva-marianmoldovan/hacknight-papis-bcn/blob/master/bcn-images-right/82.jpg) ([Torre Agbar](http://en.wikipedia.org/wiki/Torre_Agbar) at night) and [37](http://github.com/beeva-marianmoldovan/hacknight-papis-bcn/blob/master/bcn-images-right/38.jpg) ([Casa Batll\u00f3](http://en.wikipedia.org/wiki/Casa_Batll%C3%B3)): \n",
      "\n",
      " [81](http://github.com/beeva-marianmoldovan/hacknight-papis-bcn/blob/master/bcn-images-right/82.jpg) -\n",
      " [0](http://github.com/beeva-marianmoldovan/hacknight-papis-bcn/blob/master/bcn-images-right/1.jpg) -\n",
      " [93](http://github.com/beeva-marianmoldovan/hacknight-papis-bcn/blob/master/bcn-images-right/94.jpg) -\n",
      " [5](http://github.com/beeva-marianmoldovan/hacknight-papis-bcn/blob/master/bcn-images-right/6.jpg) -\n",
      " [64](http://github.com/beeva-marianmoldovan/hacknight-papis-bcn/blob/master/bcn-images-right/65.jpg) -\n",
      " [78](http://github.com/beeva-marianmoldovan/hacknight-papis-bcn/blob/master/bcn-images-right/79.jpg) -\n",
      " [58](http://github.com/beeva-marianmoldovan/hacknight-papis-bcn/blob/master/bcn-images-right/59.jpg) -\n",
      " [32](http://github.com/beeva-marianmoldovan/hacknight-papis-bcn/blob/master/bcn-images-right/33.jpg) -\n",
      " [37](http://github.com/beeva-marianmoldovan/hacknight-papis-bcn/blob/master/bcn-images-right/38.jpg)"
     ]
    },
    {
     "cell_type": "markdown",
     "metadata": {},
     "source": [
      "___\n",
      "# Example 3\n",
      "1. Try to automatically get the shortest path from 81 to 37\n",
      "With n=3"
     ]
    },
    {
     "cell_type": "code",
     "collapsed": false,
     "input": [
      "sp.get_path(vid=37)"
     ],
     "language": "python",
     "metadata": {},
     "outputs": [
      {
       "ename": "ValueError",
       "evalue": "The distance to 37 is too large to show the path.",
       "output_type": "pyerr",
       "traceback": [
        "\u001b[1;31m---------------------------------------------------------------------------\u001b[0m\n\u001b[1;31mValueError\u001b[0m                                Traceback (most recent call last)",
        "\u001b[1;32m<ipython-input-8-dbbc431079d0>\u001b[0m in \u001b[0;36m<module>\u001b[1;34m()\u001b[0m\n\u001b[1;32m----> 1\u001b[1;33m \u001b[0msp\u001b[0m\u001b[1;33m.\u001b[0m\u001b[0mget_path\u001b[0m\u001b[1;33m(\u001b[0m\u001b[0mvid\u001b[0m\u001b[1;33m=\u001b[0m\u001b[1;36m37\u001b[0m\u001b[1;33m)\u001b[0m\u001b[1;33m\u001b[0m\u001b[0m\n\u001b[0m",
        "\u001b[1;32m/usr/local/lib/python2.7/dist-packages/graphlab/toolkits/graph_analytics/shortest_path.pyc\u001b[0m in \u001b[0;36mget_path\u001b[1;34m(self, vid, show, highlight, **kwargs)\u001b[0m\n\u001b[0;32m    138\u001b[0m         \u001b[0mdist\u001b[0m \u001b[1;33m=\u001b[0m \u001b[0mrecord\u001b[0m\u001b[1;33m[\u001b[0m\u001b[1;34m'distance'\u001b[0m\u001b[1;33m]\u001b[0m\u001b[1;33m\u001b[0m\u001b[0m\n\u001b[0;32m    139\u001b[0m         \u001b[1;32mif\u001b[0m \u001b[0mdist\u001b[0m \u001b[1;33m>\u001b[0m \u001b[1;36m1e5\u001b[0m\u001b[1;33m:\u001b[0m\u001b[1;33m\u001b[0m\u001b[0m\n\u001b[1;32m--> 140\u001b[1;33m             \u001b[1;32mraise\u001b[0m \u001b[0mValueError\u001b[0m\u001b[1;33m(\u001b[0m\u001b[1;34m'The distance to {} is too large to show the path.'\u001b[0m\u001b[1;33m.\u001b[0m\u001b[0mformat\u001b[0m\u001b[1;33m(\u001b[0m\u001b[0mvid\u001b[0m\u001b[1;33m)\u001b[0m\u001b[1;33m)\u001b[0m\u001b[1;33m\u001b[0m\u001b[0m\n\u001b[0m\u001b[0;32m    141\u001b[0m \u001b[1;33m\u001b[0m\u001b[0m\n\u001b[0;32m    142\u001b[0m         \u001b[0mpath\u001b[0m \u001b[1;33m=\u001b[0m \u001b[1;33m[\u001b[0m\u001b[1;33m(\u001b[0m\u001b[0mvid\u001b[0m\u001b[1;33m,\u001b[0m \u001b[0mdist\u001b[0m\u001b[1;33m)\u001b[0m\u001b[1;33m]\u001b[0m\u001b[1;33m\u001b[0m\u001b[0m\n",
        "\u001b[1;31mValueError\u001b[0m: The distance to 37 is too large to show the path."
       ]
      }
     ],
     "prompt_number": 8
    },
    {
     "cell_type": "markdown",
     "metadata": {},
     "source": [
      "Error :("
     ]
    },
    {
     "cell_type": "code",
     "collapsed": false,
     "input": [
      "sp.summary()\n",
      "sp['distance']"
     ],
     "language": "python",
     "metadata": {},
     "outputs": [
      {
       "output_type": "stream",
       "stream": "stdout",
       "text": [
        "ShortestPathModel\n",
        "Graph:\n",
        "+--------------+-----+\n",
        "| num_edges    | 192 |\n",
        "| num_vertices | 96  |\n",
        "+--------------+-----+\n",
        "Result:\n",
        "+----------+-------------------------------------------------------+\n",
        "| graph    | SGraph. See m['graph']                                |\n",
        "| distance | SFrame with each vertex's distance. See m['distance'] |\n",
        "+----------+-------------------------------------------------------+\n",
        "Method:\n",
        "+----------+----------------------------------------------------+\n",
        "| get_path | Get shortest path, e.g. m.get_path(vid=target_vid) |\n",
        "+----------+----------------------------------------------------+\n",
        "Setting:\n",
        "+--------------+----------+\n",
        "| max_distance | 1e+30    |\n",
        "| weight_field | distance |\n",
        "| source_vid   | 81       |\n",
        "+--------------+----------+\n",
        "Metric:\n",
        "+---------------+----------+\n",
        "| training_time | 0.205643 |\n",
        "+---------------+----------+\n",
        "Queriable Fields\n",
        "+---------------+------------------------------------------------------------+\n",
        "| Field         | Description                                                |\n",
        "+---------------+------------------------------------------------------------+\n",
        "| distance      | An SFrame with each vertex's distance to the source vertex |\n",
        "| weight_field  | The edge field for weight                                  |\n",
        "| source_vid    | The source vertex id                                       |\n",
        "| training_time | Total training time of the model                           |\n",
        "| graph         | A new SGraph with the distance as a vertex property        |\n",
        "| max_distance  | Maximum distance between any two vertices                  |\n",
        "+---------------+------------------------------------------------------------+\n"
       ]
      },
      {
       "html": [
        "<div style=\"max-height:1000px;max-width:1500px;overflow:auto;\"><table frame=\"box\" rules=\"cols\">\n",
        "    <tr>\n",
        "        <th style=\"padding-left: 1em; padding-right: 1em; text-align: center\">__id</th>\n",
        "        <th style=\"padding-left: 1em; padding-right: 1em; text-align: center\">distance</th>\n",
        "    </tr>\n",
        "    <tr>\n",
        "        <td style=\"padding-left: 1em; padding-right: 1em; text-align: center; vertical-align: top\">5</td>\n",
        "        <td style=\"padding-left: 1em; padding-right: 1em; text-align: center; vertical-align: top\">180.897512973</td>\n",
        "    </tr>\n",
        "    <tr>\n",
        "        <td style=\"padding-left: 1em; padding-right: 1em; text-align: center; vertical-align: top\">7</td>\n",
        "        <td style=\"padding-left: 1em; padding-right: 1em; text-align: center; vertical-align: top\">1e+30</td>\n",
        "    </tr>\n",
        "    <tr>\n",
        "        <td style=\"padding-left: 1em; padding-right: 1em; text-align: center; vertical-align: top\">8</td>\n",
        "        <td style=\"padding-left: 1em; padding-right: 1em; text-align: center; vertical-align: top\">1e+30</td>\n",
        "    </tr>\n",
        "    <tr>\n",
        "        <td style=\"padding-left: 1em; padding-right: 1em; text-align: center; vertical-align: top\">10</td>\n",
        "        <td style=\"padding-left: 1em; padding-right: 1em; text-align: center; vertical-align: top\">1e+30</td>\n",
        "    </tr>\n",
        "    <tr>\n",
        "        <td style=\"padding-left: 1em; padding-right: 1em; text-align: center; vertical-align: top\">27</td>\n",
        "        <td style=\"padding-left: 1em; padding-right: 1em; text-align: center; vertical-align: top\">1e+30</td>\n",
        "    </tr>\n",
        "    <tr>\n",
        "        <td style=\"padding-left: 1em; padding-right: 1em; text-align: center; vertical-align: top\">29</td>\n",
        "        <td style=\"padding-left: 1em; padding-right: 1em; text-align: center; vertical-align: top\">1e+30</td>\n",
        "    </tr>\n",
        "    <tr>\n",
        "        <td style=\"padding-left: 1em; padding-right: 1em; text-align: center; vertical-align: top\">33</td>\n",
        "        <td style=\"padding-left: 1em; padding-right: 1em; text-align: center; vertical-align: top\">169.786811777</td>\n",
        "    </tr>\n",
        "    <tr>\n",
        "        <td style=\"padding-left: 1em; padding-right: 1em; text-align: center; vertical-align: top\">47</td>\n",
        "        <td style=\"padding-left: 1em; padding-right: 1em; text-align: center; vertical-align: top\">1e+30</td>\n",
        "    </tr>\n",
        "    <tr>\n",
        "        <td style=\"padding-left: 1em; padding-right: 1em; text-align: center; vertical-align: top\">50</td>\n",
        "        <td style=\"padding-left: 1em; padding-right: 1em; text-align: center; vertical-align: top\">1e+30</td>\n",
        "    </tr>\n",
        "    <tr>\n",
        "        <td style=\"padding-left: 1em; padding-right: 1em; text-align: center; vertical-align: top\">52</td>\n",
        "        <td style=\"padding-left: 1em; padding-right: 1em; text-align: center; vertical-align: top\">1e+30</td>\n",
        "    </tr>\n",
        "    <tr>\n",
        "        <td style=\"padding-left: 1em; padding-right: 1em; text-align: center; vertical-align: top\">...</td>\n",
        "        <td style=\"padding-left: 1em; padding-right: 1em; text-align: center; vertical-align: top\">...</td>\n",
        "    </tr>\n",
        "</table>\n",
        "[96 rows x 2 columns]<br/>Note: Only the head of the SFrame is printed.<br/>You can use print_rows(num_rows=m, num_columns=n) to print more rows and columns.\n",
        "</div>"
       ],
       "metadata": {},
       "output_type": "pyout",
       "prompt_number": 9,
       "text": [
        "Columns:\n",
        "\t__id\tint\n",
        "\tdistance\tfloat\n",
        "\n",
        "Rows: 96\n",
        "\n",
        "Data:\n",
        "+------+---------------+\n",
        "| __id |    distance   |\n",
        "+------+---------------+\n",
        "|  5   | 180.897512973 |\n",
        "|  7   |     1e+30     |\n",
        "|  8   |     1e+30     |\n",
        "|  10  |     1e+30     |\n",
        "|  27  |     1e+30     |\n",
        "|  29  |     1e+30     |\n",
        "|  33  | 169.786811777 |\n",
        "|  47  |     1e+30     |\n",
        "|  50  |     1e+30     |\n",
        "|  52  |     1e+30     |\n",
        "| ...  |      ...      |\n",
        "+------+---------------+\n",
        "[96 rows x 2 columns]\n",
        "Note: Only the head of the SFrame is printed.\n",
        "You can use print_rows(num_rows=m, num_columns=n) to print more rows and columns."
       ]
      }
     ],
     "prompt_number": 9
    },
    {
     "cell_type": "code",
     "collapsed": false,
     "input": [
      "sp.get_path(vid=8)"
     ],
     "language": "python",
     "metadata": {},
     "outputs": [
      {
       "ename": "ValueError",
       "evalue": "The distance to 8 is too large to show the path.",
       "output_type": "pyerr",
       "traceback": [
        "\u001b[1;31m---------------------------------------------------------------------------\u001b[0m\n\u001b[1;31mValueError\u001b[0m                                Traceback (most recent call last)",
        "\u001b[1;32m<ipython-input-10-e9bc7f0ce61a>\u001b[0m in \u001b[0;36m<module>\u001b[1;34m()\u001b[0m\n\u001b[1;32m----> 1\u001b[1;33m \u001b[0msp\u001b[0m\u001b[1;33m.\u001b[0m\u001b[0mget_path\u001b[0m\u001b[1;33m(\u001b[0m\u001b[0mvid\u001b[0m\u001b[1;33m=\u001b[0m\u001b[1;36m8\u001b[0m\u001b[1;33m)\u001b[0m\u001b[1;33m\u001b[0m\u001b[0m\n\u001b[0m",
        "\u001b[1;32m/usr/local/lib/python2.7/dist-packages/graphlab/toolkits/graph_analytics/shortest_path.pyc\u001b[0m in \u001b[0;36mget_path\u001b[1;34m(self, vid, show, highlight, **kwargs)\u001b[0m\n\u001b[0;32m    138\u001b[0m         \u001b[0mdist\u001b[0m \u001b[1;33m=\u001b[0m \u001b[0mrecord\u001b[0m\u001b[1;33m[\u001b[0m\u001b[1;34m'distance'\u001b[0m\u001b[1;33m]\u001b[0m\u001b[1;33m\u001b[0m\u001b[0m\n\u001b[0;32m    139\u001b[0m         \u001b[1;32mif\u001b[0m \u001b[0mdist\u001b[0m \u001b[1;33m>\u001b[0m \u001b[1;36m1e5\u001b[0m\u001b[1;33m:\u001b[0m\u001b[1;33m\u001b[0m\u001b[0m\n\u001b[1;32m--> 140\u001b[1;33m             \u001b[1;32mraise\u001b[0m \u001b[0mValueError\u001b[0m\u001b[1;33m(\u001b[0m\u001b[1;34m'The distance to {} is too large to show the path.'\u001b[0m\u001b[1;33m.\u001b[0m\u001b[0mformat\u001b[0m\u001b[1;33m(\u001b[0m\u001b[0mvid\u001b[0m\u001b[1;33m)\u001b[0m\u001b[1;33m)\u001b[0m\u001b[1;33m\u001b[0m\u001b[0m\n\u001b[0m\u001b[0;32m    141\u001b[0m \u001b[1;33m\u001b[0m\u001b[0m\n\u001b[0;32m    142\u001b[0m         \u001b[0mpath\u001b[0m \u001b[1;33m=\u001b[0m \u001b[1;33m[\u001b[0m\u001b[1;33m(\u001b[0m\u001b[0mvid\u001b[0m\u001b[1;33m,\u001b[0m \u001b[0mdist\u001b[0m\u001b[1;33m)\u001b[0m\u001b[1;33m]\u001b[0m\u001b[1;33m\u001b[0m\u001b[0m\n",
        "\u001b[1;31mValueError\u001b[0m: The distance to 8 is too large to show the path."
       ]
      }
     ],
     "prompt_number": 10
    },
    {
     "cell_type": "markdown",
     "metadata": {},
     "source": [
      "Error :("
     ]
    },
    {
     "cell_type": "markdown",
     "metadata": {},
     "source": [
      "Try to automatically get the shortest path from 81 to 37\n",
      "With n=96"
     ]
    },
    {
     "cell_type": "code",
     "collapsed": false,
     "input": [
      "sf_nn = model.query(sf, k=96)\n",
      "sf_nn = sf_nn.filter_by([0.0], 'distance', exclude=True)\n",
      "sg_similarities = gl.SGraph().add_edges(sf_nn, src_field='query_label', dst_field='reference_label')"
     ],
     "language": "python",
     "metadata": {},
     "outputs": [
      {
       "html": [
        "<pre>PROGRESS: Starting to query</pre>"
       ],
       "metadata": {},
       "output_type": "display_data",
       "text": [
        "PROGRESS: Starting to query"
       ]
      },
      {
       "html": [
        "<pre>PROGRESS: +--------------+---------+-------------+--------------+</pre>"
       ],
       "metadata": {},
       "output_type": "display_data",
       "text": [
        "PROGRESS: +--------------+---------+-------------+--------------+"
       ]
      },
      {
       "html": [
        "<pre>PROGRESS: | Query points | # Pairs | % Complete. | Elapsed Time |</pre>"
       ],
       "metadata": {},
       "output_type": "display_data",
       "text": [
        "PROGRESS: | Query points | # Pairs | % Complete. | Elapsed Time |"
       ]
      },
      {
       "html": [
        "<pre>PROGRESS: +--------------+---------+-------------+--------------+</pre>"
       ],
       "metadata": {},
       "output_type": "display_data",
       "text": [
        "PROGRESS: +--------------+---------+-------------+--------------+"
       ]
      },
      {
       "html": [
        "<pre>PROGRESS: | 1            | 96      | 1           | 6.996ms      |</pre>"
       ],
       "metadata": {},
       "output_type": "display_data",
       "text": [
        "PROGRESS: | 1            | 96      | 1           | 6.996ms      |"
       ]
      },
      {
       "html": [
        "<pre>PROGRESS: | Done         |         | 100         | 19.114ms     |</pre>"
       ],
       "metadata": {},
       "output_type": "display_data",
       "text": [
        "PROGRESS: | Done         |         | 100         | 19.114ms     |"
       ]
      },
      {
       "html": [
        "<pre>PROGRESS: +--------------+---------+-------------+--------------+</pre>"
       ],
       "metadata": {},
       "output_type": "display_data",
       "text": [
        "PROGRESS: +--------------+---------+-------------+--------------+"
       ]
      },
      {
       "output_type": "stream",
       "stream": "stdout",
       "text": [
        "Starting model querying...\n"
       ]
      }
     ],
     "prompt_number": 11
    },
    {
     "cell_type": "code",
     "collapsed": false,
     "input": [
      "sp = gl.shortest_path.create(sg_similarities, weight_field='distance', source_vid=81)"
     ],
     "language": "python",
     "metadata": {},
     "outputs": [
      {
       "html": [
        "<pre>PROGRESS: +----------------------------+</pre>"
       ],
       "metadata": {},
       "output_type": "display_data",
       "text": [
        "PROGRESS: +----------------------------+"
       ]
      },
      {
       "html": [
        "<pre>PROGRESS: | Number of vertices updated |</pre>"
       ],
       "metadata": {},
       "output_type": "display_data",
       "text": [
        "PROGRESS: | Number of vertices updated |"
       ]
      },
      {
       "html": [
        "<pre>PROGRESS: +----------------------------+</pre>"
       ],
       "metadata": {},
       "output_type": "display_data",
       "text": [
        "PROGRESS: +----------------------------+"
       ]
      },
      {
       "html": [
        "<pre>PROGRESS: | 381                        |</pre>"
       ],
       "metadata": {},
       "output_type": "display_data",
       "text": [
        "PROGRESS: | 381                        |"
       ]
      },
      {
       "html": [
        "<pre>PROGRESS: | 0                          |</pre>"
       ],
       "metadata": {},
       "output_type": "display_data",
       "text": [
        "PROGRESS: | 0                          |"
       ]
      },
      {
       "html": [
        "<pre>PROGRESS: +----------------------------+</pre>"
       ],
       "metadata": {},
       "output_type": "display_data",
       "text": [
        "PROGRESS: +----------------------------+"
       ]
      }
     ],
     "prompt_number": 12
    },
    {
     "cell_type": "code",
     "collapsed": false,
     "input": [
      "sp.get_path(vid=37)"
     ],
     "language": "python",
     "metadata": {},
     "outputs": [
      {
       "ename": "AssertionError",
       "evalue": "",
       "output_type": "pyerr",
       "traceback": [
        "\u001b[1;31m---------------------------------------------------------------------------\u001b[0m\n\u001b[1;31mAssertionError\u001b[0m                            Traceback (most recent call last)",
        "\u001b[1;32m<ipython-input-13-dbbc431079d0>\u001b[0m in \u001b[0;36m<module>\u001b[1;34m()\u001b[0m\n\u001b[1;32m----> 1\u001b[1;33m \u001b[0msp\u001b[0m\u001b[1;33m.\u001b[0m\u001b[0mget_path\u001b[0m\u001b[1;33m(\u001b[0m\u001b[0mvid\u001b[0m\u001b[1;33m=\u001b[0m\u001b[1;36m37\u001b[0m\u001b[1;33m)\u001b[0m\u001b[1;33m\u001b[0m\u001b[0m\n\u001b[0m",
        "\u001b[1;32m/usr/local/lib/python2.7/dist-packages/graphlab/toolkits/graph_analytics/shortest_path.pyc\u001b[0m in \u001b[0;36mget_path\u001b[1;34m(self, vid, show, highlight, **kwargs)\u001b[0m\n\u001b[0;32m    146\u001b[0m             \u001b[0mparent_id\u001b[0m \u001b[1;33m=\u001b[0m \u001b[0mrecord\u001b[0m\u001b[1;33m[\u001b[0m\u001b[1;34m'parent_row_id'\u001b[0m\u001b[1;33m]\u001b[0m\u001b[1;33m\u001b[0m\u001b[0m\n\u001b[0;32m    147\u001b[0m             \u001b[1;32massert\u001b[0m \u001b[0mparent_id\u001b[0m \u001b[1;33m<\u001b[0m \u001b[0mlen\u001b[0m\u001b[1;33m(\u001b[0m\u001b[0mpath_query_table\u001b[0m\u001b[1;33m)\u001b[0m\u001b[1;33m\u001b[0m\u001b[0m\n\u001b[1;32m--> 148\u001b[1;33m             \u001b[1;32massert\u001b[0m \u001b[0mparent_id\u001b[0m \u001b[1;33m>=\u001b[0m \u001b[1;36m0\u001b[0m\u001b[1;33m\u001b[0m\u001b[0m\n\u001b[0m\u001b[0;32m    149\u001b[0m             \u001b[0mrecord\u001b[0m \u001b[1;33m=\u001b[0m \u001b[0mpath_query_table\u001b[0m\u001b[1;33m[\u001b[0m\u001b[0mparent_id\u001b[0m\u001b[1;33m]\u001b[0m\u001b[1;33m\u001b[0m\u001b[0m\n\u001b[0;32m    150\u001b[0m             \u001b[0mpath\u001b[0m\u001b[1;33m.\u001b[0m\u001b[0mappend\u001b[0m\u001b[1;33m(\u001b[0m\u001b[1;33m(\u001b[0m\u001b[0mrecord\u001b[0m\u001b[1;33m[\u001b[0m\u001b[1;34m'vid'\u001b[0m\u001b[1;33m]\u001b[0m\u001b[1;33m,\u001b[0m \u001b[0mrecord\u001b[0m\u001b[1;33m[\u001b[0m\u001b[1;34m'distance'\u001b[0m\u001b[1;33m]\u001b[0m\u001b[1;33m)\u001b[0m\u001b[1;33m)\u001b[0m\u001b[1;33m\u001b[0m\u001b[0m\n",
        "\u001b[1;31mAssertionError\u001b[0m: "
       ]
      }
     ],
     "prompt_number": 13
    },
    {
     "cell_type": "markdown",
     "metadata": {},
     "source": [
      "Error :("
     ]
    },
    {
     "cell_type": "code",
     "collapsed": false,
     "input": [
      "sp.summary()\n",
      "sp['distance']"
     ],
     "language": "python",
     "metadata": {},
     "outputs": [
      {
       "output_type": "stream",
       "stream": "stdout",
       "text": [
        "ShortestPathModel\n",
        "Graph:\n",
        "+--------------+------+\n",
        "| num_edges    | 9120 |\n",
        "| num_vertices | 96   |\n",
        "+--------------+------+\n",
        "Result:\n",
        "+----------+-------------------------------------------------------+\n",
        "| graph    | SGraph. See m['graph']                                |\n",
        "| distance | SFrame with each vertex's distance. See m['distance'] |\n",
        "+----------+-------------------------------------------------------+\n",
        "Method:\n",
        "+----------+----------------------------------------------------+\n",
        "| get_path | Get shortest path, e.g. m.get_path(vid=target_vid) |\n",
        "+----------+----------------------------------------------------+\n",
        "Setting:\n",
        "+--------------+----------+\n",
        "| max_distance | 1e+30    |\n",
        "| weight_field | distance |\n",
        "| source_vid   | 81       |\n",
        "+--------------+----------+\n",
        "Metric:\n",
        "+---------------+----------+\n",
        "| training_time | 0.188054 |\n",
        "+---------------+----------+\n",
        "Queriable Fields\n",
        "+---------------+------------------------------------------------------------+\n",
        "| Field         | Description                                                |\n",
        "+---------------+------------------------------------------------------------+\n",
        "| distance      | An SFrame with each vertex's distance to the source vertex |\n",
        "| weight_field  | The edge field for weight                                  |\n",
        "| source_vid    | The source vertex id                                       |\n",
        "| training_time | Total training time of the model                           |\n",
        "| graph         | A new SGraph with the distance as a vertex property        |\n",
        "| max_distance  | Maximum distance between any two vertices                  |\n",
        "+---------------+------------------------------------------------------------+\n"
       ]
      },
      {
       "html": [
        "<div style=\"max-height:1000px;max-width:1500px;overflow:auto;\"><table frame=\"box\" rules=\"cols\">\n",
        "    <tr>\n",
        "        <th style=\"padding-left: 1em; padding-right: 1em; text-align: center\">__id</th>\n",
        "        <th style=\"padding-left: 1em; padding-right: 1em; text-align: center\">distance</th>\n",
        "    </tr>\n",
        "    <tr>\n",
        "        <td style=\"padding-left: 1em; padding-right: 1em; text-align: center; vertical-align: top\">5</td>\n",
        "        <td style=\"padding-left: 1em; padding-right: 1em; text-align: center; vertical-align: top\">93.0810297974</td>\n",
        "    </tr>\n",
        "    <tr>\n",
        "        <td style=\"padding-left: 1em; padding-right: 1em; text-align: center; vertical-align: top\">7</td>\n",
        "        <td style=\"padding-left: 1em; padding-right: 1em; text-align: center; vertical-align: top\">101.383061343</td>\n",
        "    </tr>\n",
        "    <tr>\n",
        "        <td style=\"padding-left: 1em; padding-right: 1em; text-align: center; vertical-align: top\">8</td>\n",
        "        <td style=\"padding-left: 1em; padding-right: 1em; text-align: center; vertical-align: top\">92.1678523587</td>\n",
        "    </tr>\n",
        "    <tr>\n",
        "        <td style=\"padding-left: 1em; padding-right: 1em; text-align: center; vertical-align: top\">10</td>\n",
        "        <td style=\"padding-left: 1em; padding-right: 1em; text-align: center; vertical-align: top\">103.622340179</td>\n",
        "    </tr>\n",
        "    <tr>\n",
        "        <td style=\"padding-left: 1em; padding-right: 1em; text-align: center; vertical-align: top\">27</td>\n",
        "        <td style=\"padding-left: 1em; padding-right: 1em; text-align: center; vertical-align: top\">103.458257884</td>\n",
        "    </tr>\n",
        "    <tr>\n",
        "        <td style=\"padding-left: 1em; padding-right: 1em; text-align: center; vertical-align: top\">29</td>\n",
        "        <td style=\"padding-left: 1em; padding-right: 1em; text-align: center; vertical-align: top\">97.6742657181</td>\n",
        "    </tr>\n",
        "    <tr>\n",
        "        <td style=\"padding-left: 1em; padding-right: 1em; text-align: center; vertical-align: top\">33</td>\n",
        "        <td style=\"padding-left: 1em; padding-right: 1em; text-align: center; vertical-align: top\">90.2144056812</td>\n",
        "    </tr>\n",
        "    <tr>\n",
        "        <td style=\"padding-left: 1em; padding-right: 1em; text-align: center; vertical-align: top\">47</td>\n",
        "        <td style=\"padding-left: 1em; padding-right: 1em; text-align: center; vertical-align: top\">108.009593315</td>\n",
        "    </tr>\n",
        "    <tr>\n",
        "        <td style=\"padding-left: 1em; padding-right: 1em; text-align: center; vertical-align: top\">50</td>\n",
        "        <td style=\"padding-left: 1em; padding-right: 1em; text-align: center; vertical-align: top\">108.681874333</td>\n",
        "    </tr>\n",
        "    <tr>\n",
        "        <td style=\"padding-left: 1em; padding-right: 1em; text-align: center; vertical-align: top\">52</td>\n",
        "        <td style=\"padding-left: 1em; padding-right: 1em; text-align: center; vertical-align: top\">96.9877389504</td>\n",
        "    </tr>\n",
        "    <tr>\n",
        "        <td style=\"padding-left: 1em; padding-right: 1em; text-align: center; vertical-align: top\">...</td>\n",
        "        <td style=\"padding-left: 1em; padding-right: 1em; text-align: center; vertical-align: top\">...</td>\n",
        "    </tr>\n",
        "</table>\n",
        "[96 rows x 2 columns]<br/>Note: Only the head of the SFrame is printed.<br/>You can use print_rows(num_rows=m, num_columns=n) to print more rows and columns.\n",
        "</div>"
       ],
       "metadata": {},
       "output_type": "pyout",
       "prompt_number": 14,
       "text": [
        "Columns:\n",
        "\t__id\tint\n",
        "\tdistance\tfloat\n",
        "\n",
        "Rows: 96\n",
        "\n",
        "Data:\n",
        "+------+---------------+\n",
        "| __id |    distance   |\n",
        "+------+---------------+\n",
        "|  5   | 93.0810297974 |\n",
        "|  7   | 101.383061343 |\n",
        "|  8   | 92.1678523587 |\n",
        "|  10  | 103.622340179 |\n",
        "|  27  | 103.458257884 |\n",
        "|  29  | 97.6742657181 |\n",
        "|  33  | 90.2144056812 |\n",
        "|  47  | 108.009593315 |\n",
        "|  50  | 108.681874333 |\n",
        "|  52  | 96.9877389504 |\n",
        "| ...  |      ...      |\n",
        "+------+---------------+\n",
        "[96 rows x 2 columns]\n",
        "Note: Only the head of the SFrame is printed.\n",
        "You can use print_rows(num_rows=m, num_columns=n) to print more rows and columns."
       ]
      }
     ],
     "prompt_number": 14
    },
    {
     "cell_type": "markdown",
     "metadata": {},
     "source": [
      "Trying with vid=5"
     ]
    },
    {
     "cell_type": "code",
     "collapsed": false,
     "input": [
      "sp.get_path(vid=5)"
     ],
     "language": "python",
     "metadata": {},
     "outputs": [
      {
       "ename": "AssertionError",
       "evalue": "",
       "output_type": "pyerr",
       "traceback": [
        "\u001b[1;31m---------------------------------------------------------------------------\u001b[0m\n\u001b[1;31mAssertionError\u001b[0m                            Traceback (most recent call last)",
        "\u001b[1;32m<ipython-input-15-e89129d22394>\u001b[0m in \u001b[0;36m<module>\u001b[1;34m()\u001b[0m\n\u001b[1;32m----> 1\u001b[1;33m \u001b[0msp\u001b[0m\u001b[1;33m.\u001b[0m\u001b[0mget_path\u001b[0m\u001b[1;33m(\u001b[0m\u001b[0mvid\u001b[0m\u001b[1;33m=\u001b[0m\u001b[1;36m5\u001b[0m\u001b[1;33m)\u001b[0m\u001b[1;33m\u001b[0m\u001b[0m\n\u001b[0m",
        "\u001b[1;32m/usr/local/lib/python2.7/dist-packages/graphlab/toolkits/graph_analytics/shortest_path.pyc\u001b[0m in \u001b[0;36mget_path\u001b[1;34m(self, vid, show, highlight, **kwargs)\u001b[0m\n\u001b[0;32m    146\u001b[0m             \u001b[0mparent_id\u001b[0m \u001b[1;33m=\u001b[0m \u001b[0mrecord\u001b[0m\u001b[1;33m[\u001b[0m\u001b[1;34m'parent_row_id'\u001b[0m\u001b[1;33m]\u001b[0m\u001b[1;33m\u001b[0m\u001b[0m\n\u001b[0;32m    147\u001b[0m             \u001b[1;32massert\u001b[0m \u001b[0mparent_id\u001b[0m \u001b[1;33m<\u001b[0m \u001b[0mlen\u001b[0m\u001b[1;33m(\u001b[0m\u001b[0mpath_query_table\u001b[0m\u001b[1;33m)\u001b[0m\u001b[1;33m\u001b[0m\u001b[0m\n\u001b[1;32m--> 148\u001b[1;33m             \u001b[1;32massert\u001b[0m \u001b[0mparent_id\u001b[0m \u001b[1;33m>=\u001b[0m \u001b[1;36m0\u001b[0m\u001b[1;33m\u001b[0m\u001b[0m\n\u001b[0m\u001b[0;32m    149\u001b[0m             \u001b[0mrecord\u001b[0m \u001b[1;33m=\u001b[0m \u001b[0mpath_query_table\u001b[0m\u001b[1;33m[\u001b[0m\u001b[0mparent_id\u001b[0m\u001b[1;33m]\u001b[0m\u001b[1;33m\u001b[0m\u001b[0m\n\u001b[0;32m    150\u001b[0m             \u001b[0mpath\u001b[0m\u001b[1;33m.\u001b[0m\u001b[0mappend\u001b[0m\u001b[1;33m(\u001b[0m\u001b[1;33m(\u001b[0m\u001b[0mrecord\u001b[0m\u001b[1;33m[\u001b[0m\u001b[1;34m'vid'\u001b[0m\u001b[1;33m]\u001b[0m\u001b[1;33m,\u001b[0m \u001b[0mrecord\u001b[0m\u001b[1;33m[\u001b[0m\u001b[1;34m'distance'\u001b[0m\u001b[1;33m]\u001b[0m\u001b[1;33m)\u001b[0m\u001b[1;33m)\u001b[0m\u001b[1;33m\u001b[0m\u001b[0m\n",
        "\u001b[1;31mAssertionError\u001b[0m: "
       ]
      }
     ],
     "prompt_number": 15
    },
    {
     "cell_type": "markdown",
     "metadata": {},
     "source": [
      "Error :("
     ]
    }
   ],
   "metadata": {}
  }
 ]
}